{
 "cells": [
  {
   "cell_type": "markdown",
   "metadata": {},
   "source": [
    "### 0. Import the Libraries"
   ]
  },
  {
   "cell_type": "code",
   "execution_count": 1,
   "metadata": {},
   "outputs": [],
   "source": [
    "import pickle\n",
    "from chart_studio import plotly as py\n",
    "import plotly.tools as tls\n",
    "from plotly.graph_objs import *\n",
    "from datetime import datetime\n",
    "from collections import Counter\n",
    "import itertools\n",
    "import numpy as np\n",
    "import pandas as pd\n",
    "import dask.dataframe as dd\n",
    "import matplotlib.pyplot as plt\n",
    "import matplotlib.ticker as ticker\n",
    "import seaborn as sns\n",
    "import os\n",
    "\n",
    "from sklearn.model_selection import GridSearchCV\n",
    "from sklearn import datasets, metrics\n",
    "from sklearn.model_selection import train_test_split\n",
    "from sklearn.preprocessing import StandardScaler\n",
    "from sklearn.datasets import make_moons, make_circles, make_classification\n",
    "from sklearn.neighbors import KNeighborsClassifier\n",
    "from sklearn.metrics import confusion_matrix\n",
    "from sklearn.metrics import ConfusionMatrixDisplay\n",
    "from sklearn.svm import SVC\n",
    "from sklearn.tree import DecisionTreeClassifier\n",
    "from sklearn.ensemble import RandomForestClassifier, AdaBoostClassifier\n",
    "from sklearn.naive_bayes import GaussianNB\n",
    "from sklearn.discriminant_analysis import LinearDiscriminantAnalysis as LDA\n",
    "from sklearn.discriminant_analysis import QuadraticDiscriminantAnalysis as QDA\n",
    "from sklearn.preprocessing import LabelEncoder\n",
    "from sklearn.linear_model import LogisticRegression\n",
    "from sklearn.feature_extraction import DictVectorizer\n",
    "from imblearn.combine import SMOTEENN\n",
    "from imblearn.over_sampling import SMOTE\n",
    "from imblearn.over_sampling import RandomOverSampler\n",
    "from imblearn.combine import SMOTETomek\n",
    "\n",
    "from xgboost import XGBClassifier\n"
   ]
  },
  {
   "cell_type": "markdown",
   "metadata": {},
   "source": [
    "## 1. Loading and Preparing Data"
   ]
  },
  {
   "cell_type": "markdown",
   "metadata": {},
   "source": [
    "### Reading and merge dataset"
   ]
  },
  {
   "cell_type": "code",
   "execution_count": 2,
   "metadata": {
    "collapsed": true
   },
   "outputs": [],
   "source": [
    "df_18 = pd.read_csv(\"./data/Chicago_Crimes_2018.csv\")\n",
    "df_19 = pd.read_csv(\"./data/Chicago_Crimes_2019.csv\")\n",
    "df_20 = pd.read_csv(\"./data/Chicago_Crimes_2020.csv\")\n",
    "df_21 = pd.read_csv(\"./data/Chicago_Crimes_2021.csv\")\n",
    "df_22 = pd.read_csv(\"./data/Chicago_Crimes_2022.csv\")\n",
    "df_23 = pd.read_csv(\"./data/Chicago_Crimes_2023.csv\")\n",
    "df_raw = pd.concat([df_18, df_19, df_20, df_21, df_22, df_23], ignore_index=True)"
   ]
  },
  {
   "cell_type": "code",
   "execution_count": 3,
   "metadata": {},
   "outputs": [
    {
     "data": {
      "text/plain": [
       "Index(['ID', 'Case Number', 'Date', 'Block', 'IUCR', 'Primary Type',\n",
       "       'Description', 'Location Description', 'Arrest', 'Domestic', 'Beat',\n",
       "       'District', 'Ward', 'Community Area', 'FBI Code', 'X Coordinate',\n",
       "       'Y Coordinate', 'Year', 'Updated On', 'Latitude', 'Longitude',\n",
       "       'Location'],\n",
       "      dtype='object')"
      ]
     },
     "execution_count": 3,
     "metadata": {},
     "output_type": "execute_result"
    }
   ],
   "source": [
    "df_raw.columns"
   ]
  },
  {
   "cell_type": "code",
   "execution_count": 4,
   "metadata": {
    "collapsed": true
   },
   "outputs": [],
   "source": [
    "selected_columns = ['Date', 'Latitude', 'Longitude', 'Primary Type']\n",
    "df = df_raw[selected_columns]"
   ]
  },
  {
   "cell_type": "code",
   "execution_count": 5,
   "metadata": {},
   "outputs": [
    {
     "name": "stderr",
     "output_type": "stream",
     "text": [
      "C:\\Users\\soumy\\AppData\\Local\\Temp\\ipykernel_48176\\603065442.py:5: SettingWithCopyWarning:\n",
      "\n",
      "\n",
      "A value is trying to be set on a copy of a slice from a DataFrame\n",
      "\n",
      "See the caveats in the documentation: https://pandas.pydata.org/pandas-docs/stable/user_guide/indexing.html#returning-a-view-versus-a-copy\n",
      "\n"
     ]
    },
    {
     "name": "stdout",
     "output_type": "stream",
     "text": [
      "THEFT                 304173\n",
      "BATTERY               253476\n",
      "CRIMINAL DAMAGE       152999\n",
      "ASSAULT               116361\n",
      "DECEPTIVE PRACTICE    102493\n",
      "Name: Primary Type, dtype: int64\n"
     ]
    }
   ],
   "source": [
    "top_10_type_crimes = df['Primary Type'].value_counts()[:5].index.tolist()\n",
    "other_type_crimes = df['Primary Type'].value_counts()[5:].index.tolist()\n",
    "\n",
    "for c in other_type_crimes:\n",
    "    df.drop(df[df['Primary Type'] == c].index, inplace = True)\n",
    "print(df['Primary Type'].value_counts())"
   ]
  },
  {
   "cell_type": "code",
   "execution_count": 6,
   "metadata": {},
   "outputs": [
    {
     "data": {
      "text/html": [
       "<div>\n",
       "<style scoped>\n",
       "    .dataframe tbody tr th:only-of-type {\n",
       "        vertical-align: middle;\n",
       "    }\n",
       "\n",
       "    .dataframe tbody tr th {\n",
       "        vertical-align: top;\n",
       "    }\n",
       "\n",
       "    .dataframe thead th {\n",
       "        text-align: right;\n",
       "    }\n",
       "</style>\n",
       "<table border=\"1\" class=\"dataframe\">\n",
       "  <thead>\n",
       "    <tr style=\"text-align: right;\">\n",
       "      <th></th>\n",
       "      <th>Date</th>\n",
       "      <th>Latitude</th>\n",
       "      <th>Longitude</th>\n",
       "      <th>Primary Type</th>\n",
       "    </tr>\n",
       "  </thead>\n",
       "  <tbody>\n",
       "    <tr>\n",
       "      <th>1</th>\n",
       "      <td>09/15/2018 08:00:00 AM</td>\n",
       "      <td>NaN</td>\n",
       "      <td>NaN</td>\n",
       "      <td>DECEPTIVE PRACTICE</td>\n",
       "    </tr>\n",
       "    <tr>\n",
       "      <th>2</th>\n",
       "      <td>09/30/2018 01:05:00 PM</td>\n",
       "      <td>41.694643</td>\n",
       "      <td>-87.661565</td>\n",
       "      <td>ASSAULT</td>\n",
       "    </tr>\n",
       "    <tr>\n",
       "      <th>4</th>\n",
       "      <td>12/14/2018 02:45:00 PM</td>\n",
       "      <td>NaN</td>\n",
       "      <td>NaN</td>\n",
       "      <td>DECEPTIVE PRACTICE</td>\n",
       "    </tr>\n",
       "    <tr>\n",
       "      <th>6</th>\n",
       "      <td>06/04/2018 06:10:00 PM</td>\n",
       "      <td>NaN</td>\n",
       "      <td>NaN</td>\n",
       "      <td>THEFT</td>\n",
       "    </tr>\n",
       "    <tr>\n",
       "      <th>7</th>\n",
       "      <td>08/25/2018 12:00:00 PM</td>\n",
       "      <td>NaN</td>\n",
       "      <td>NaN</td>\n",
       "      <td>DECEPTIVE PRACTICE</td>\n",
       "    </tr>\n",
       "  </tbody>\n",
       "</table>\n",
       "</div>"
      ],
      "text/plain": [
       "                     Date   Latitude  Longitude        Primary Type\n",
       "1  09/15/2018 08:00:00 AM        NaN        NaN  DECEPTIVE PRACTICE\n",
       "2  09/30/2018 01:05:00 PM  41.694643 -87.661565             ASSAULT\n",
       "4  12/14/2018 02:45:00 PM        NaN        NaN  DECEPTIVE PRACTICE\n",
       "6  06/04/2018 06:10:00 PM        NaN        NaN               THEFT\n",
       "7  08/25/2018 12:00:00 PM        NaN        NaN  DECEPTIVE PRACTICE"
      ]
     },
     "execution_count": 6,
     "metadata": {},
     "output_type": "execute_result"
    }
   ],
   "source": [
    "df.head()"
   ]
  },
  {
   "cell_type": "code",
   "execution_count": 7,
   "metadata": {},
   "outputs": [
    {
     "name": "stdout",
     "output_type": "stream",
     "text": [
      "929,502 total crime records\n"
     ]
    }
   ],
   "source": [
    "print(\"{:,} total crime records\".format(len(df)))"
   ]
  },
  {
   "cell_type": "markdown",
   "metadata": {},
   "source": [
    "### Drop the duplicates"
   ]
  },
  {
   "cell_type": "code",
   "execution_count": 8,
   "metadata": {},
   "outputs": [
    {
     "name": "stdout",
     "output_type": "stream",
     "text": [
      "924,594 total crime records after removing duplicates\n"
     ]
    }
   ],
   "source": [
    "df = df.drop_duplicates()\n",
    "print(\"{:,} total crime records after removing duplicates\".format(len(df)))"
   ]
  },
  {
   "cell_type": "markdown",
   "metadata": {},
   "source": [
    "### Break up date into components"
   ]
  },
  {
   "cell_type": "code",
   "execution_count": 9,
   "metadata": {
    "collapsed": true
   },
   "outputs": [
    {
     "name": "stderr",
     "output_type": "stream",
     "text": [
      "C:\\Users\\soumy\\AppData\\Local\\Temp\\ipykernel_48176\\843570448.py:17: SettingWithCopyWarning:\n",
      "\n",
      "\n",
      "A value is trying to be set on a copy of a slice from a DataFrame.\n",
      "Try using .loc[row_indexer,col_indexer] = value instead\n",
      "\n",
      "See the caveats in the documentation: https://pandas.pydata.org/pandas-docs/stable/user_guide/indexing.html#returning-a-view-versus-a-copy\n",
      "\n",
      "C:\\Users\\soumy\\AppData\\Local\\Temp\\ipykernel_48176\\843570448.py:18: SettingWithCopyWarning:\n",
      "\n",
      "\n",
      "A value is trying to be set on a copy of a slice from a DataFrame.\n",
      "Try using .loc[row_indexer,col_indexer] = value instead\n",
      "\n",
      "See the caveats in the documentation: https://pandas.pydata.org/pandas-docs/stable/user_guide/indexing.html#returning-a-view-versus-a-copy\n",
      "\n",
      "C:\\Users\\soumy\\AppData\\Local\\Temp\\ipykernel_48176\\843570448.py:19: SettingWithCopyWarning:\n",
      "\n",
      "\n",
      "A value is trying to be set on a copy of a slice from a DataFrame.\n",
      "Try using .loc[row_indexer,col_indexer] = value instead\n",
      "\n",
      "See the caveats in the documentation: https://pandas.pydata.org/pandas-docs/stable/user_guide/indexing.html#returning-a-view-versus-a-copy\n",
      "\n",
      "C:\\Users\\soumy\\AppData\\Local\\Temp\\ipykernel_48176\\843570448.py:20: SettingWithCopyWarning:\n",
      "\n",
      "\n",
      "A value is trying to be set on a copy of a slice from a DataFrame.\n",
      "Try using .loc[row_indexer,col_indexer] = value instead\n",
      "\n",
      "See the caveats in the documentation: https://pandas.pydata.org/pandas-docs/stable/user_guide/indexing.html#returning-a-view-versus-a-copy\n",
      "\n",
      "C:\\Users\\soumy\\AppData\\Local\\Temp\\ipykernel_48176\\843570448.py:21: SettingWithCopyWarning:\n",
      "\n",
      "\n",
      "A value is trying to be set on a copy of a slice from a DataFrame.\n",
      "Try using .loc[row_indexer,col_indexer] = value instead\n",
      "\n",
      "See the caveats in the documentation: https://pandas.pydata.org/pandas-docs/stable/user_guide/indexing.html#returning-a-view-versus-a-copy\n",
      "\n"
     ]
    }
   ],
   "source": [
    "def break_up_date(str_date):\n",
    "    date_format = '%m/%d/%Y %I:%M:%S %p'\n",
    "    date = datetime.strptime(str_date, date_format)\n",
    "    return date\n",
    "\n",
    "years = []\n",
    "months = []\n",
    "days = []\n",
    "hours = []\n",
    "minutes = []\n",
    "for date in map(break_up_date,df['Date']):\n",
    "    years.append(date.year)\n",
    "    months.append(date.month)\n",
    "    days.append(date.day)\n",
    "    hours.append(date.hour)\n",
    "    minutes.append(date.minute)\n",
    "df['Year'] = years\n",
    "df['Month'] = months\n",
    "df['Day'] =  days\n",
    "df['Hour'] = hours\n",
    "df['Minute'] = minutes"
   ]
  },
  {
   "cell_type": "code",
   "execution_count": 10,
   "metadata": {
    "collapsed": true
   },
   "outputs": [
    {
     "name": "stderr",
     "output_type": "stream",
     "text": [
      "C:\\Users\\soumy\\AppData\\Local\\Temp\\ipykernel_48176\\2762219652.py:1: SettingWithCopyWarning:\n",
      "\n",
      "\n",
      "A value is trying to be set on a copy of a slice from a DataFrame\n",
      "\n",
      "See the caveats in the documentation: https://pandas.pydata.org/pandas-docs/stable/user_guide/indexing.html#returning-a-view-versus-a-copy\n",
      "\n"
     ]
    }
   ],
   "source": [
    "df.drop('Date',axis=1,inplace=True)"
   ]
  },
  {
   "cell_type": "code",
   "execution_count": 11,
   "metadata": {},
   "outputs": [
    {
     "data": {
      "text/html": [
       "<div>\n",
       "<style scoped>\n",
       "    .dataframe tbody tr th:only-of-type {\n",
       "        vertical-align: middle;\n",
       "    }\n",
       "\n",
       "    .dataframe tbody tr th {\n",
       "        vertical-align: top;\n",
       "    }\n",
       "\n",
       "    .dataframe thead th {\n",
       "        text-align: right;\n",
       "    }\n",
       "</style>\n",
       "<table border=\"1\" class=\"dataframe\">\n",
       "  <thead>\n",
       "    <tr style=\"text-align: right;\">\n",
       "      <th></th>\n",
       "      <th>Latitude</th>\n",
       "      <th>Longitude</th>\n",
       "      <th>Primary Type</th>\n",
       "      <th>Year</th>\n",
       "      <th>Month</th>\n",
       "      <th>Day</th>\n",
       "      <th>Hour</th>\n",
       "      <th>Minute</th>\n",
       "    </tr>\n",
       "  </thead>\n",
       "  <tbody>\n",
       "    <tr>\n",
       "      <th>1</th>\n",
       "      <td>NaN</td>\n",
       "      <td>NaN</td>\n",
       "      <td>DECEPTIVE PRACTICE</td>\n",
       "      <td>2018</td>\n",
       "      <td>9</td>\n",
       "      <td>15</td>\n",
       "      <td>8</td>\n",
       "      <td>0</td>\n",
       "    </tr>\n",
       "    <tr>\n",
       "      <th>2</th>\n",
       "      <td>41.694643</td>\n",
       "      <td>-87.661565</td>\n",
       "      <td>ASSAULT</td>\n",
       "      <td>2018</td>\n",
       "      <td>9</td>\n",
       "      <td>30</td>\n",
       "      <td>13</td>\n",
       "      <td>5</td>\n",
       "    </tr>\n",
       "    <tr>\n",
       "      <th>4</th>\n",
       "      <td>NaN</td>\n",
       "      <td>NaN</td>\n",
       "      <td>DECEPTIVE PRACTICE</td>\n",
       "      <td>2018</td>\n",
       "      <td>12</td>\n",
       "      <td>14</td>\n",
       "      <td>14</td>\n",
       "      <td>45</td>\n",
       "    </tr>\n",
       "    <tr>\n",
       "      <th>6</th>\n",
       "      <td>NaN</td>\n",
       "      <td>NaN</td>\n",
       "      <td>THEFT</td>\n",
       "      <td>2018</td>\n",
       "      <td>6</td>\n",
       "      <td>4</td>\n",
       "      <td>18</td>\n",
       "      <td>10</td>\n",
       "    </tr>\n",
       "    <tr>\n",
       "      <th>7</th>\n",
       "      <td>NaN</td>\n",
       "      <td>NaN</td>\n",
       "      <td>DECEPTIVE PRACTICE</td>\n",
       "      <td>2018</td>\n",
       "      <td>8</td>\n",
       "      <td>25</td>\n",
       "      <td>12</td>\n",
       "      <td>0</td>\n",
       "    </tr>\n",
       "  </tbody>\n",
       "</table>\n",
       "</div>"
      ],
      "text/plain": [
       "    Latitude  Longitude        Primary Type  Year  Month  Day  Hour  Minute\n",
       "1        NaN        NaN  DECEPTIVE PRACTICE  2018      9   15     8       0\n",
       "2  41.694643 -87.661565             ASSAULT  2018      9   30    13       5\n",
       "4        NaN        NaN  DECEPTIVE PRACTICE  2018     12   14    14      45\n",
       "6        NaN        NaN               THEFT  2018      6    4    18      10\n",
       "7        NaN        NaN  DECEPTIVE PRACTICE  2018      8   25    12       0"
      ]
     },
     "execution_count": 11,
     "metadata": {},
     "output_type": "execute_result"
    }
   ],
   "source": [
    "df.head()"
   ]
  },
  {
   "cell_type": "markdown",
   "metadata": {},
   "source": [
    "### Drop NA values"
   ]
  },
  {
   "cell_type": "code",
   "execution_count": 12,
   "metadata": {},
   "outputs": [
    {
     "name": "stdout",
     "output_type": "stream",
     "text": [
      "909,830 total crime records after removing NAs\n"
     ]
    },
    {
     "name": "stderr",
     "output_type": "stream",
     "text": [
      "C:\\Users\\soumy\\AppData\\Local\\Temp\\ipykernel_48176\\1595370917.py:1: SettingWithCopyWarning:\n",
      "\n",
      "\n",
      "A value is trying to be set on a copy of a slice from a DataFrame\n",
      "\n",
      "See the caveats in the documentation: https://pandas.pydata.org/pandas-docs/stable/user_guide/indexing.html#returning-a-view-versus-a-copy\n",
      "\n"
     ]
    }
   ],
   "source": [
    "df.dropna(axis=0,how='any', inplace=True)\n",
    "print(\"{:,} total crime records after removing NAs\".format(len(df)))"
   ]
  },
  {
   "cell_type": "code",
   "execution_count": 13,
   "metadata": {},
   "outputs": [
    {
     "data": {
      "text/html": [
       "<div>\n",
       "<style scoped>\n",
       "    .dataframe tbody tr th:only-of-type {\n",
       "        vertical-align: middle;\n",
       "    }\n",
       "\n",
       "    .dataframe tbody tr th {\n",
       "        vertical-align: top;\n",
       "    }\n",
       "\n",
       "    .dataframe thead th {\n",
       "        text-align: right;\n",
       "    }\n",
       "</style>\n",
       "<table border=\"1\" class=\"dataframe\">\n",
       "  <thead>\n",
       "    <tr style=\"text-align: right;\">\n",
       "      <th></th>\n",
       "      <th>Latitude</th>\n",
       "      <th>Longitude</th>\n",
       "      <th>Primary Type</th>\n",
       "      <th>Year</th>\n",
       "      <th>Month</th>\n",
       "      <th>Day</th>\n",
       "      <th>Hour</th>\n",
       "      <th>Minute</th>\n",
       "    </tr>\n",
       "  </thead>\n",
       "  <tbody>\n",
       "    <tr>\n",
       "      <th>2</th>\n",
       "      <td>41.694643</td>\n",
       "      <td>-87.661565</td>\n",
       "      <td>ASSAULT</td>\n",
       "      <td>2018</td>\n",
       "      <td>9</td>\n",
       "      <td>30</td>\n",
       "      <td>13</td>\n",
       "      <td>5</td>\n",
       "    </tr>\n",
       "    <tr>\n",
       "      <th>32</th>\n",
       "      <td>41.721867</td>\n",
       "      <td>-87.682095</td>\n",
       "      <td>THEFT</td>\n",
       "      <td>2018</td>\n",
       "      <td>1</td>\n",
       "      <td>8</td>\n",
       "      <td>22</td>\n",
       "      <td>16</td>\n",
       "    </tr>\n",
       "    <tr>\n",
       "      <th>33</th>\n",
       "      <td>41.876005</td>\n",
       "      <td>-87.710840</td>\n",
       "      <td>ASSAULT</td>\n",
       "      <td>2018</td>\n",
       "      <td>8</td>\n",
       "      <td>28</td>\n",
       "      <td>16</td>\n",
       "      <td>25</td>\n",
       "    </tr>\n",
       "    <tr>\n",
       "      <th>103</th>\n",
       "      <td>41.983839</td>\n",
       "      <td>-87.705289</td>\n",
       "      <td>BATTERY</td>\n",
       "      <td>2018</td>\n",
       "      <td>7</td>\n",
       "      <td>14</td>\n",
       "      <td>12</td>\n",
       "      <td>20</td>\n",
       "    </tr>\n",
       "    <tr>\n",
       "      <th>106</th>\n",
       "      <td>41.879769</td>\n",
       "      <td>-87.774646</td>\n",
       "      <td>ASSAULT</td>\n",
       "      <td>2018</td>\n",
       "      <td>7</td>\n",
       "      <td>22</td>\n",
       "      <td>10</td>\n",
       "      <td>45</td>\n",
       "    </tr>\n",
       "  </tbody>\n",
       "</table>\n",
       "</div>"
      ],
      "text/plain": [
       "      Latitude  Longitude Primary Type  Year  Month  Day  Hour  Minute\n",
       "2    41.694643 -87.661565      ASSAULT  2018      9   30    13       5\n",
       "32   41.721867 -87.682095        THEFT  2018      1    8    22      16\n",
       "33   41.876005 -87.710840      ASSAULT  2018      8   28    16      25\n",
       "103  41.983839 -87.705289      BATTERY  2018      7   14    12      20\n",
       "106  41.879769 -87.774646      ASSAULT  2018      7   22    10      45"
      ]
     },
     "execution_count": 13,
     "metadata": {},
     "output_type": "execute_result"
    }
   ],
   "source": [
    "df.head()\n",
    "# df[\"Arrest\"].value_counts()"
   ]
  },
  {
   "cell_type": "code",
   "execution_count": 14,
   "metadata": {},
   "outputs": [
    {
     "data": {
      "text/html": [
       "<div>\n",
       "<style scoped>\n",
       "    .dataframe tbody tr th:only-of-type {\n",
       "        vertical-align: middle;\n",
       "    }\n",
       "\n",
       "    .dataframe tbody tr th {\n",
       "        vertical-align: top;\n",
       "    }\n",
       "\n",
       "    .dataframe thead th {\n",
       "        text-align: right;\n",
       "    }\n",
       "</style>\n",
       "<table border=\"1\" class=\"dataframe\">\n",
       "  <thead>\n",
       "    <tr style=\"text-align: right;\">\n",
       "      <th></th>\n",
       "      <th>count</th>\n",
       "      <th>mean</th>\n",
       "      <th>std</th>\n",
       "      <th>min</th>\n",
       "      <th>25%</th>\n",
       "      <th>50%</th>\n",
       "      <th>75%</th>\n",
       "      <th>max</th>\n",
       "    </tr>\n",
       "  </thead>\n",
       "  <tbody>\n",
       "    <tr>\n",
       "      <th>Latitude</th>\n",
       "      <td>909830.0</td>\n",
       "      <td>41.846744</td>\n",
       "      <td>0.087950</td>\n",
       "      <td>36.619446</td>\n",
       "      <td>41.770060</td>\n",
       "      <td>41.866133</td>\n",
       "      <td>41.909829</td>\n",
       "      <td>42.022671</td>\n",
       "    </tr>\n",
       "    <tr>\n",
       "      <th>Longitude</th>\n",
       "      <td>909830.0</td>\n",
       "      <td>-87.668385</td>\n",
       "      <td>0.059304</td>\n",
       "      <td>-91.686566</td>\n",
       "      <td>-87.708861</td>\n",
       "      <td>-87.660962</td>\n",
       "      <td>-87.627341</td>\n",
       "      <td>-87.524529</td>\n",
       "    </tr>\n",
       "    <tr>\n",
       "      <th>Year</th>\n",
       "      <td>909830.0</td>\n",
       "      <td>2020.297970</td>\n",
       "      <td>1.702604</td>\n",
       "      <td>2018.000000</td>\n",
       "      <td>2019.000000</td>\n",
       "      <td>2020.000000</td>\n",
       "      <td>2022.000000</td>\n",
       "      <td>2023.000000</td>\n",
       "    </tr>\n",
       "    <tr>\n",
       "      <th>Month</th>\n",
       "      <td>909830.0</td>\n",
       "      <td>6.415786</td>\n",
       "      <td>3.281252</td>\n",
       "      <td>1.000000</td>\n",
       "      <td>4.000000</td>\n",
       "      <td>6.000000</td>\n",
       "      <td>9.000000</td>\n",
       "      <td>12.000000</td>\n",
       "    </tr>\n",
       "    <tr>\n",
       "      <th>Day</th>\n",
       "      <td>909830.0</td>\n",
       "      <td>15.572917</td>\n",
       "      <td>8.843486</td>\n",
       "      <td>1.000000</td>\n",
       "      <td>8.000000</td>\n",
       "      <td>16.000000</td>\n",
       "      <td>23.000000</td>\n",
       "      <td>31.000000</td>\n",
       "    </tr>\n",
       "    <tr>\n",
       "      <th>Hour</th>\n",
       "      <td>909830.0</td>\n",
       "      <td>12.693704</td>\n",
       "      <td>6.654535</td>\n",
       "      <td>0.000000</td>\n",
       "      <td>8.000000</td>\n",
       "      <td>13.000000</td>\n",
       "      <td>18.000000</td>\n",
       "      <td>23.000000</td>\n",
       "    </tr>\n",
       "    <tr>\n",
       "      <th>Minute</th>\n",
       "      <td>909830.0</td>\n",
       "      <td>19.344549</td>\n",
       "      <td>18.601102</td>\n",
       "      <td>0.000000</td>\n",
       "      <td>0.000000</td>\n",
       "      <td>16.000000</td>\n",
       "      <td>31.000000</td>\n",
       "      <td>59.000000</td>\n",
       "    </tr>\n",
       "  </tbody>\n",
       "</table>\n",
       "</div>"
      ],
      "text/plain": [
       "              count         mean        std          min          25%  \\\n",
       "Latitude   909830.0    41.846744   0.087950    36.619446    41.770060   \n",
       "Longitude  909830.0   -87.668385   0.059304   -91.686566   -87.708861   \n",
       "Year       909830.0  2020.297970   1.702604  2018.000000  2019.000000   \n",
       "Month      909830.0     6.415786   3.281252     1.000000     4.000000   \n",
       "Day        909830.0    15.572917   8.843486     1.000000     8.000000   \n",
       "Hour       909830.0    12.693704   6.654535     0.000000     8.000000   \n",
       "Minute     909830.0    19.344549  18.601102     0.000000     0.000000   \n",
       "\n",
       "                   50%          75%          max  \n",
       "Latitude     41.866133    41.909829    42.022671  \n",
       "Longitude   -87.660962   -87.627341   -87.524529  \n",
       "Year       2020.000000  2022.000000  2023.000000  \n",
       "Month         6.000000     9.000000    12.000000  \n",
       "Day          16.000000    23.000000    31.000000  \n",
       "Hour         13.000000    18.000000    23.000000  \n",
       "Minute       16.000000    31.000000    59.000000  "
      ]
     },
     "execution_count": 14,
     "metadata": {},
     "output_type": "execute_result"
    }
   ],
   "source": [
    "df.describe().transpose()"
   ]
  },
  {
   "cell_type": "markdown",
   "metadata": {},
   "source": [
    "### Convert df data to array type"
   ]
  },
  {
   "cell_type": "code",
   "execution_count": 15,
   "metadata": {},
   "outputs": [
    {
     "name": "stderr",
     "output_type": "stream",
     "text": [
      "c:\\Users\\soumy\\anaconda3\\lib\\site-packages\\sklearn\\preprocessing\\_label.py:98: DataConversionWarning:\n",
      "\n",
      "A column-vector y was passed when a 1d array was expected. Please change the shape of y to (n_samples, ), for example using ravel().\n",
      "\n",
      "c:\\Users\\soumy\\anaconda3\\lib\\site-packages\\sklearn\\preprocessing\\_label.py:133: DataConversionWarning:\n",
      "\n",
      "A column-vector y was passed when a 1d array was expected. Please change the shape of y to (n_samples, ), for example using ravel().\n",
      "\n"
     ]
    },
    {
     "name": "stdout",
     "output_type": "stream",
     "text": [
      "[0 4 0 ... 2 2 3]\n"
     ]
    }
   ],
   "source": [
    "y = np.asarray(df[['Primary Type']])\n",
    "le = LabelEncoder()\n",
    "le.fit(y)\n",
    "y = le.transform(y)\n",
    "\n",
    "print(y)\n",
    "\n",
    "X = df[['Latitude','Longitude','Hour','Minute']]\n",
    "X = X.to_dict(orient='records')\n",
    "vec = DictVectorizer()\n",
    "X = vec.fit_transform(X).toarray()"
   ]
  },
  {
   "cell_type": "code",
   "execution_count": 36,
   "metadata": {},
   "outputs": [
    {
     "name": "stdout",
     "output_type": "stream",
     "text": [
      "[['ASSAULT']\n",
      " ['THEFT']\n",
      " ['ASSAULT']\n",
      " ['BATTERY']\n",
      " ['ASSAULT']\n",
      " ['BATTERY']\n",
      " ['THEFT']\n",
      " ['THEFT']\n",
      " ['BATTERY']\n",
      " ['BATTERY']]\n",
      "[0 4 0 1 0 1 4 4 1 1]\n",
      "['ASSAULT' 'BATTERY' 'CRIMINAL DAMAGE' 'DECEPTIVE PRACTICE' 'THEFT']\n"
     ]
    },
    {
     "name": "stderr",
     "output_type": "stream",
     "text": [
      "c:\\Users\\soumy\\anaconda3\\lib\\site-packages\\sklearn\\preprocessing\\_label.py:98: DataConversionWarning:\n",
      "\n",
      "A column-vector y was passed when a 1d array was expected. Please change the shape of y to (n_samples, ), for example using ravel().\n",
      "\n",
      "c:\\Users\\soumy\\anaconda3\\lib\\site-packages\\sklearn\\preprocessing\\_label.py:133: DataConversionWarning:\n",
      "\n",
      "A column-vector y was passed when a 1d array was expected. Please change the shape of y to (n_samples, ), for example using ravel().\n",
      "\n"
     ]
    }
   ],
   "source": [
    "crimes = np.asarray(df[['Primary Type']])\n",
    "le = LabelEncoder()\n",
    "print(crimes[:10])\n",
    "le.fit(crimes)\n",
    "crimes = le.transform(crimes)\n",
    "print(crimes[:10])\n",
    "x = le.classes_\n",
    "print(x)\n",
    "crime_type = [0, 1, 2, 3, 4]\n",
    "crime_weight = [4, 5, 3, 1, 2]"
   ]
  },
  {
   "cell_type": "markdown",
   "metadata": {},
   "source": [
    "### Balancing data"
   ]
  },
  {
   "cell_type": "code",
   "execution_count": 16,
   "metadata": {},
   "outputs": [
    {
     "name": "stdout",
     "output_type": "stream",
     "text": [
      "Count of each target from unbalanced dataset: [(0, 115839), (1, 252333), (2, 151397), (3, 94347), (4, 295914)] (arrest true (1) or false (0))\n",
      "Count of each target from balanced dataset: [(0, 55510), (1, 26255), (2, 46864), (3, 90920), (4, 27444)] (arrest true (1) or false (0))\n"
     ]
    }
   ],
   "source": [
    "print(\"Count of each target from unbalanced dataset: {} (arrest true (1) or false (0))\".format(sorted(Counter(y).items())))\n",
    "smote_enn = SMOTEENN(random_state=0)\n",
    "X_resampled, y_resampled = smote_enn.fit_resample(X, y)\n",
    "# X_resampled, y_resampled = X, y\n",
    "print(\"Count of each target from balanced dataset: {} (arrest true (1) or false (0))\".format(sorted(Counter(y_resampled).items())))"
   ]
  },
  {
   "cell_type": "markdown",
   "metadata": {},
   "source": [
    "### Split data into train and test set"
   ]
  },
  {
   "cell_type": "code",
   "execution_count": 17,
   "metadata": {
    "collapsed": true
   },
   "outputs": [
    {
     "name": "stdout",
     "output_type": "stream",
     "text": [
      "3639320\n",
      "790376\n"
     ]
    }
   ],
   "source": [
    "X_train, X_test, y_train, y_test = train_test_split(X_resampled, y_resampled, test_size=.2, random_state=42)\n",
    "print(X.size)\n",
    "print(X_train.size)"
   ]
  },
  {
   "cell_type": "markdown",
   "metadata": {},
   "source": [
    "### Normalize the input features"
   ]
  },
  {
   "cell_type": "code",
   "execution_count": 18,
   "metadata": {
    "collapsed": true
   },
   "outputs": [],
   "source": [
    "scaler = StandardScaler()\n",
    "X_train2 = scaler.fit_transform(X_train)\n",
    "X_test2 = scaler.transform(X_test)\n",
    "# y_train2 = scaler.fit_transform(y_train)"
   ]
  },
  {
   "cell_type": "markdown",
   "metadata": {},
   "source": [
    "## 2. Modeling, Prediction and Evaluation"
   ]
  },
  {
   "cell_type": "code",
   "execution_count": 53,
   "metadata": {},
   "outputs": [
    {
     "name": "stdout",
     "output_type": "stream",
     "text": [
      "Accuracy=0.19708379082610905\n",
      "Classification report for classifier Logistic Regression:\n",
      "              precision    recall  f1-score   support\n",
      "\n",
      "           0       0.11      0.10      0.11     23109\n",
      "           1       0.24      0.27      0.26     50281\n",
      "           2       0.07      0.05      0.06      9736\n",
      "           3       0.14      0.14      0.14     30204\n",
      "           4       0.17      0.16      0.17     18867\n",
      "           5       0.10      0.09      0.10     16198\n",
      "           6       0.11      0.10      0.10      9494\n",
      "           7       0.09      0.07      0.08     16936\n",
      "           8       0.07      0.06      0.06      9946\n",
      "           9       0.29      0.34      0.32     59313\n",
      "\n",
      "    accuracy                           0.20    244084\n",
      "   macro avg       0.14      0.14      0.14    244084\n",
      "weighted avg       0.19      0.20      0.19    244084\n",
      "\n",
      "\n",
      "Confusion matrix:\n",
      "[[ 2379  5921   641  2709  1202  1122   999  1386   815  5935]\n",
      " [ 4888 13515  1544  6165  2305  2637  2080  3019  1986 12142]\n",
      " [  731  2063   495  1306   761   654   168   482   297  2779]\n",
      " [ 2446  7130  1013  4131  1870  1967   887  1587  1051  8122]\n",
      " [ 1198  2797   568  1737  3086  1020   458  1114   355  6534]\n",
      " [ 1161  3205   581  2221  1145  1470   292   784   519  4820]\n",
      " [ 1036  2611   182   864   415   313   947   726   374  2026]\n",
      " [ 1551  4067   460  1879  1314   874   754  1194   526  4317]\n",
      " [  928  2637   289  1225   430   532   383   545   569  2408]\n",
      " [ 4456 11298  1714  6407  5199  3591  1616  3023  1690 20319]]\n"
     ]
    }
   ],
   "source": [
    "# neigh = 7\n",
    "# knn_model = KNeighborsClassifier(n_neighbors=neigh)\n",
    "# # Model Training\n",
    "# knn_model.fit(X=X_train2, y=y_train)\n",
    "# # print(X_train2)\n",
    "# # print(y_train)\n",
    "# # Prediction\n",
    "# result = knn_model.predict(X_test)\n",
    "# # Model Evaluation\n",
    "# acc = metrics.accuracy_score(y_test, result)\n",
    "# print(\"Accuracy: \", acc)\n",
    "# rec = metrics.recall_score(y_test, result, average=\"weighted\")\n",
    "# print(\"Recall      : \", rec)\n",
    "# pre = metrics.precision_score(y_test, result, average=\"weighted\")\n",
    "# print(\"Precision   : \", pre)\n",
    "# f1 = metrics.f1_score(y_test, result, average='micro')\n",
    "# print(\"F1 Score: \", f1)\n",
    "\n",
    "knn = KNeighborsClassifier(algorithm='auto', leaf_size=30, metric='minkowski',\n",
    "           metric_params=None, n_jobs=1, n_neighbors=5, p=2,\n",
    "           weights='distance');\n",
    "knn.fit(X_train,y_train)\n",
    "\n",
    "knn_expected = y_test\n",
    "knn_predicted = knn.predict(X_test)\n",
    "knn_cm = metrics.confusion_matrix(knn_expected, knn_predicted)\n",
    "\n",
    "print(\"Accuracy={}\".format(metrics.accuracy_score(knn_expected, knn_predicted)))\n",
    "print(\"Classification report for classifier %s:\\n%s\\n\"\n",
    "      % (\"Logistic Regression\", metrics.classification_report(knn_expected, knn_predicted)))\n",
    "print(\"Confusion matrix:\\n%s\" % knn_cm)\n"
   ]
  },
  {
   "cell_type": "markdown",
   "metadata": {},
   "source": [
    "### Using K-Nearest Neighbors"
   ]
  },
  {
   "cell_type": "code",
   "execution_count": 94,
   "metadata": {
    "collapsed": true
   },
   "outputs": [],
   "source": [
    "parameters = { \n",
    "    'n_neighbors':[5,7,9],\n",
    "    'weights':['uniform', 'distance']\n",
    "}\n",
    "knn = KNeighborsClassifier();\n",
    "grid_knn = GridSearchCV(estimator=knn, param_grid=parameters, verbose=0);\n",
    "grid_knn.fit(X_train, y_train);"
   ]
  },
  {
   "cell_type": "code",
   "execution_count": 95,
   "metadata": {},
   "outputs": [
    {
     "name": "stdout",
     "output_type": "stream",
     "text": [
      "{'n_neighbors': 5, 'weights': 'distance'}\n",
      "0.8791166427383341\n",
      "KNeighborsClassifier(weights='distance')\n"
     ]
    }
   ],
   "source": [
    "print(grid_knn.best_params_)\n",
    "print(grid_knn.best_score_)\n",
    "print(grid_knn.best_estimator_)\n",
    "# print(grid_lr.feature_importances_)"
   ]
  },
  {
   "cell_type": "markdown",
   "metadata": {},
   "source": [
    "{'n_neighbors': 5, 'weights': 'distance'}\n",
    "0.8260319336773744\n",
    "KNeighborsClassifier(algorithm='auto', leaf_size=30, metric='minkowski',\n",
    "           metric_params=None, n_jobs=1, n_neighbors=5, p=2,\n",
    "           weights='distance')"
   ]
  },
  {
   "cell_type": "code",
   "execution_count": null,
   "metadata": {
    "collapsed": true
   },
   "outputs": [],
   "source": [
    "grid_knn.best_estimator_.fit(X_train, y_train);"
   ]
  },
  {
   "cell_type": "code",
   "execution_count": 88,
   "metadata": {},
   "outputs": [
    {
     "name": "stdout",
     "output_type": "stream",
     "text": [
      "Accuracy=0.26099551762610346\n",
      "Classification report for classifier Logistic Regression:\n",
      "              precision    recall  f1-score   support\n",
      "\n",
      "           0       0.43      0.74      0.54     13836\n",
      "           1       0.20      0.01      0.01      4848\n",
      "           2       0.16      0.18      0.17     10149\n",
      "           3       0.08      0.00      0.00     19294\n",
      "           4       0.08      0.39      0.13      2962\n",
      "\n",
      "    accuracy                           0.26     51089\n",
      "   macro avg       0.19      0.27      0.17     51089\n",
      "weighted avg       0.20      0.26      0.19     51089\n",
      "\n",
      "\n",
      "Confusion matrix:\n",
      "[[10239    60  1380    95  2062]\n",
      " [ 3187    34   605    97   925]\n",
      " [ 4564    41  1875    99  3570]\n",
      " [ 4656    32  7311    24  7271]\n",
      " [ 1262     1   536     1  1162]]\n"
     ]
    }
   ],
   "source": [
    "knn = KNeighborsClassifier(algorithm='auto', leaf_size=30, metric='minkowski',\n",
    "           metric_params=None, n_jobs=1, n_neighbors=5, p=2,\n",
    "           weights='distance');\n",
    "knn.fit(X_train2,y_train)\n",
    "\n",
    "knn_expected = y_test\n",
    "knn_predicted = knn.predict(X_test)\n",
    "knn_cm = metrics.confusion_matrix(knn_expected, knn_predicted)\n",
    "\n",
    "print(\"Accuracy={}\".format(metrics.accuracy_score(knn_expected, knn_predicted)))\n",
    "print(\"Classification report for classifier %s:\\n%s\\n\"\n",
    "      % (\"Logistic Regression\", metrics.classification_report(knn_expected, knn_predicted)))\n",
    "print(\"Confusion matrix:\\n%s\" % knn_cm)\n"
   ]
  },
  {
   "cell_type": "code",
   "execution_count": null,
   "metadata": {},
   "outputs": [
    {
     "data": {
      "image/png": "[encoded data removed]",
      "text/plain": [
       "<Figure size 432x288 with 2 Axes>"
      ]
     },
     "metadata": {
      "needs_background": "light"
     },
     "output_type": "display_data"
    }
   ],
   "source": [
    "ConfusionMatrixDisplay.from_predictions(knn_expected, knn_predicted)\n",
    "plt.show()"
   ]
  },
  {
   "cell_type": "markdown",
   "metadata": {},
   "source": [
    "### Decision Tree"
   ]
  },
  {
   "cell_type": "code",
   "execution_count": 89,
   "metadata": {},
   "outputs": [
    {
     "name": "stdout",
     "output_type": "stream",
     "text": [
      "Start learning at 2023-11-06 18:13:08.616050\n"
     ]
    },
    {
     "name": "stderr",
     "output_type": "stream",
     "text": [
      "c:\\Users\\soumy\\anaconda3\\Lib\\site-packages\\sklearn\\tree\\_classes.py:269: FutureWarning:\n",
      "\n",
      "`max_features='auto'` has been deprecated in 1.1 and will be removed in 1.3. To keep the past behaviour, explicitly set `max_features='sqrt'`.\n",
      "\n",
      "c:\\Users\\soumy\\anaconda3\\Lib\\site-packages\\sklearn\\tree\\_classes.py:269: FutureWarning:\n",
      "\n",
      "`max_features='auto'` has been deprecated in 1.1 and will be removed in 1.3. To keep the past behaviour, explicitly set `max_features='sqrt'`.\n",
      "\n",
      "c:\\Users\\soumy\\anaconda3\\Lib\\site-packages\\sklearn\\tree\\_classes.py:269: FutureWarning:\n",
      "\n",
      "`max_features='auto'` has been deprecated in 1.1 and will be removed in 1.3. To keep the past behaviour, explicitly set `max_features='sqrt'`.\n",
      "\n",
      "c:\\Users\\soumy\\anaconda3\\Lib\\site-packages\\sklearn\\tree\\_classes.py:269: FutureWarning:\n",
      "\n",
      "`max_features='auto'` has been deprecated in 1.1 and will be removed in 1.3. To keep the past behaviour, explicitly set `max_features='sqrt'`.\n",
      "\n",
      "c:\\Users\\soumy\\anaconda3\\Lib\\site-packages\\sklearn\\tree\\_classes.py:269: FutureWarning:\n",
      "\n",
      "`max_features='auto'` has been deprecated in 1.1 and will be removed in 1.3. To keep the past behaviour, explicitly set `max_features='sqrt'`.\n",
      "\n",
      "c:\\Users\\soumy\\anaconda3\\Lib\\site-packages\\sklearn\\tree\\_classes.py:269: FutureWarning:\n",
      "\n",
      "`max_features='auto'` has been deprecated in 1.1 and will be removed in 1.3. To keep the past behaviour, explicitly set `max_features='sqrt'`.\n",
      "\n",
      "c:\\Users\\soumy\\anaconda3\\Lib\\site-packages\\sklearn\\tree\\_classes.py:269: FutureWarning:\n",
      "\n",
      "`max_features='auto'` has been deprecated in 1.1 and will be removed in 1.3. To keep the past behaviour, explicitly set `max_features='sqrt'`.\n",
      "\n",
      "c:\\Users\\soumy\\anaconda3\\Lib\\site-packages\\sklearn\\tree\\_classes.py:269: FutureWarning:\n",
      "\n",
      "`max_features='auto'` has been deprecated in 1.1 and will be removed in 1.3. To keep the past behaviour, explicitly set `max_features='sqrt'`.\n",
      "\n",
      "c:\\Users\\soumy\\anaconda3\\Lib\\site-packages\\sklearn\\tree\\_classes.py:269: FutureWarning:\n",
      "\n",
      "`max_features='auto'` has been deprecated in 1.1 and will be removed in 1.3. To keep the past behaviour, explicitly set `max_features='sqrt'`.\n",
      "\n",
      "c:\\Users\\soumy\\anaconda3\\Lib\\site-packages\\sklearn\\tree\\_classes.py:269: FutureWarning:\n",
      "\n",
      "`max_features='auto'` has been deprecated in 1.1 and will be removed in 1.3. To keep the past behaviour, explicitly set `max_features='sqrt'`.\n",
      "\n",
      "c:\\Users\\soumy\\anaconda3\\Lib\\site-packages\\sklearn\\tree\\_classes.py:269: FutureWarning:\n",
      "\n",
      "`max_features='auto'` has been deprecated in 1.1 and will be removed in 1.3. To keep the past behaviour, explicitly set `max_features='sqrt'`.\n",
      "\n",
      "c:\\Users\\soumy\\anaconda3\\Lib\\site-packages\\sklearn\\tree\\_classes.py:269: FutureWarning:\n",
      "\n",
      "`max_features='auto'` has been deprecated in 1.1 and will be removed in 1.3. To keep the past behaviour, explicitly set `max_features='sqrt'`.\n",
      "\n",
      "c:\\Users\\soumy\\anaconda3\\Lib\\site-packages\\sklearn\\tree\\_classes.py:269: FutureWarning:\n",
      "\n",
      "`max_features='auto'` has been deprecated in 1.1 and will be removed in 1.3. To keep the past behaviour, explicitly set `max_features='sqrt'`.\n",
      "\n",
      "c:\\Users\\soumy\\anaconda3\\Lib\\site-packages\\sklearn\\tree\\_classes.py:269: FutureWarning:\n",
      "\n",
      "`max_features='auto'` has been deprecated in 1.1 and will be removed in 1.3. To keep the past behaviour, explicitly set `max_features='sqrt'`.\n",
      "\n",
      "c:\\Users\\soumy\\anaconda3\\Lib\\site-packages\\sklearn\\tree\\_classes.py:269: FutureWarning:\n",
      "\n",
      "`max_features='auto'` has been deprecated in 1.1 and will be removed in 1.3. To keep the past behaviour, explicitly set `max_features='sqrt'`.\n",
      "\n",
      "c:\\Users\\soumy\\anaconda3\\Lib\\site-packages\\sklearn\\tree\\_classes.py:269: FutureWarning:\n",
      "\n",
      "`max_features='auto'` has been deprecated in 1.1 and will be removed in 1.3. To keep the past behaviour, explicitly set `max_features='sqrt'`.\n",
      "\n",
      "c:\\Users\\soumy\\anaconda3\\Lib\\site-packages\\sklearn\\tree\\_classes.py:269: FutureWarning:\n",
      "\n",
      "`max_features='auto'` has been deprecated in 1.1 and will be removed in 1.3. To keep the past behaviour, explicitly set `max_features='sqrt'`.\n",
      "\n",
      "c:\\Users\\soumy\\anaconda3\\Lib\\site-packages\\sklearn\\tree\\_classes.py:269: FutureWarning:\n",
      "\n",
      "`max_features='auto'` has been deprecated in 1.1 and will be removed in 1.3. To keep the past behaviour, explicitly set `max_features='sqrt'`.\n",
      "\n",
      "c:\\Users\\soumy\\anaconda3\\Lib\\site-packages\\sklearn\\tree\\_classes.py:269: FutureWarning:\n",
      "\n",
      "`max_features='auto'` has been deprecated in 1.1 and will be removed in 1.3. To keep the past behaviour, explicitly set `max_features='sqrt'`.\n",
      "\n",
      "c:\\Users\\soumy\\anaconda3\\Lib\\site-packages\\sklearn\\tree\\_classes.py:269: FutureWarning:\n",
      "\n",
      "`max_features='auto'` has been deprecated in 1.1 and will be removed in 1.3. To keep the past behaviour, explicitly set `max_features='sqrt'`.\n",
      "\n",
      "c:\\Users\\soumy\\anaconda3\\Lib\\site-packages\\sklearn\\tree\\_classes.py:269: FutureWarning:\n",
      "\n",
      "`max_features='auto'` has been deprecated in 1.1 and will be removed in 1.3. To keep the past behaviour, explicitly set `max_features='sqrt'`.\n",
      "\n",
      "c:\\Users\\soumy\\anaconda3\\Lib\\site-packages\\sklearn\\tree\\_classes.py:269: FutureWarning:\n",
      "\n",
      "`max_features='auto'` has been deprecated in 1.1 and will be removed in 1.3. To keep the past behaviour, explicitly set `max_features='sqrt'`.\n",
      "\n",
      "c:\\Users\\soumy\\anaconda3\\Lib\\site-packages\\sklearn\\tree\\_classes.py:269: FutureWarning:\n",
      "\n",
      "`max_features='auto'` has been deprecated in 1.1 and will be removed in 1.3. To keep the past behaviour, explicitly set `max_features='sqrt'`.\n",
      "\n",
      "c:\\Users\\soumy\\anaconda3\\Lib\\site-packages\\sklearn\\tree\\_classes.py:269: FutureWarning:\n",
      "\n",
      "`max_features='auto'` has been deprecated in 1.1 and will be removed in 1.3. To keep the past behaviour, explicitly set `max_features='sqrt'`.\n",
      "\n",
      "c:\\Users\\soumy\\anaconda3\\Lib\\site-packages\\sklearn\\tree\\_classes.py:269: FutureWarning:\n",
      "\n",
      "`max_features='auto'` has been deprecated in 1.1 and will be removed in 1.3. To keep the past behaviour, explicitly set `max_features='sqrt'`.\n",
      "\n",
      "c:\\Users\\soumy\\anaconda3\\Lib\\site-packages\\sklearn\\tree\\_classes.py:269: FutureWarning:\n",
      "\n",
      "`max_features='auto'` has been deprecated in 1.1 and will be removed in 1.3. To keep the past behaviour, explicitly set `max_features='sqrt'`.\n",
      "\n",
      "c:\\Users\\soumy\\anaconda3\\Lib\\site-packages\\sklearn\\tree\\_classes.py:269: FutureWarning:\n",
      "\n",
      "`max_features='auto'` has been deprecated in 1.1 and will be removed in 1.3. To keep the past behaviour, explicitly set `max_features='sqrt'`.\n",
      "\n",
      "c:\\Users\\soumy\\anaconda3\\Lib\\site-packages\\sklearn\\tree\\_classes.py:269: FutureWarning:\n",
      "\n",
      "`max_features='auto'` has been deprecated in 1.1 and will be removed in 1.3. To keep the past behaviour, explicitly set `max_features='sqrt'`.\n",
      "\n",
      "c:\\Users\\soumy\\anaconda3\\Lib\\site-packages\\sklearn\\tree\\_classes.py:269: FutureWarning:\n",
      "\n",
      "`max_features='auto'` has been deprecated in 1.1 and will be removed in 1.3. To keep the past behaviour, explicitly set `max_features='sqrt'`.\n",
      "\n",
      "c:\\Users\\soumy\\anaconda3\\Lib\\site-packages\\sklearn\\tree\\_classes.py:269: FutureWarning:\n",
      "\n",
      "`max_features='auto'` has been deprecated in 1.1 and will be removed in 1.3. To keep the past behaviour, explicitly set `max_features='sqrt'`.\n",
      "\n",
      "c:\\Users\\soumy\\anaconda3\\Lib\\site-packages\\sklearn\\tree\\_classes.py:269: FutureWarning:\n",
      "\n",
      "`max_features='auto'` has been deprecated in 1.1 and will be removed in 1.3. To keep the past behaviour, explicitly set `max_features='sqrt'`.\n",
      "\n",
      "c:\\Users\\soumy\\anaconda3\\Lib\\site-packages\\sklearn\\tree\\_classes.py:269: FutureWarning:\n",
      "\n",
      "`max_features='auto'` has been deprecated in 1.1 and will be removed in 1.3. To keep the past behaviour, explicitly set `max_features='sqrt'`.\n",
      "\n",
      "c:\\Users\\soumy\\anaconda3\\Lib\\site-packages\\sklearn\\tree\\_classes.py:269: FutureWarning:\n",
      "\n",
      "`max_features='auto'` has been deprecated in 1.1 and will be removed in 1.3. To keep the past behaviour, explicitly set `max_features='sqrt'`.\n",
      "\n",
      "c:\\Users\\soumy\\anaconda3\\Lib\\site-packages\\sklearn\\tree\\_classes.py:269: FutureWarning:\n",
      "\n",
      "`max_features='auto'` has been deprecated in 1.1 and will be removed in 1.3. To keep the past behaviour, explicitly set `max_features='sqrt'`.\n",
      "\n",
      "c:\\Users\\soumy\\anaconda3\\Lib\\site-packages\\sklearn\\tree\\_classes.py:269: FutureWarning:\n",
      "\n",
      "`max_features='auto'` has been deprecated in 1.1 and will be removed in 1.3. To keep the past behaviour, explicitly set `max_features='sqrt'`.\n",
      "\n",
      "c:\\Users\\soumy\\anaconda3\\Lib\\site-packages\\sklearn\\tree\\_classes.py:269: FutureWarning:\n",
      "\n",
      "`max_features='auto'` has been deprecated in 1.1 and will be removed in 1.3. To keep the past behaviour, explicitly set `max_features='sqrt'`.\n",
      "\n",
      "c:\\Users\\soumy\\anaconda3\\Lib\\site-packages\\sklearn\\tree\\_classes.py:269: FutureWarning:\n",
      "\n",
      "`max_features='auto'` has been deprecated in 1.1 and will be removed in 1.3. To keep the past behaviour, explicitly set `max_features='sqrt'`.\n",
      "\n",
      "c:\\Users\\soumy\\anaconda3\\Lib\\site-packages\\sklearn\\tree\\_classes.py:269: FutureWarning:\n",
      "\n",
      "`max_features='auto'` has been deprecated in 1.1 and will be removed in 1.3. To keep the past behaviour, explicitly set `max_features='sqrt'`.\n",
      "\n",
      "c:\\Users\\soumy\\anaconda3\\Lib\\site-packages\\sklearn\\tree\\_classes.py:269: FutureWarning:\n",
      "\n",
      "`max_features='auto'` has been deprecated in 1.1 and will be removed in 1.3. To keep the past behaviour, explicitly set `max_features='sqrt'`.\n",
      "\n",
      "c:\\Users\\soumy\\anaconda3\\Lib\\site-packages\\sklearn\\tree\\_classes.py:269: FutureWarning:\n",
      "\n",
      "`max_features='auto'` has been deprecated in 1.1 and will be removed in 1.3. To keep the past behaviour, explicitly set `max_features='sqrt'`.\n",
      "\n",
      "c:\\Users\\soumy\\anaconda3\\Lib\\site-packages\\sklearn\\tree\\_classes.py:269: FutureWarning:\n",
      "\n",
      "`max_features='auto'` has been deprecated in 1.1 and will be removed in 1.3. To keep the past behaviour, explicitly set `max_features='sqrt'`.\n",
      "\n",
      "c:\\Users\\soumy\\anaconda3\\Lib\\site-packages\\sklearn\\tree\\_classes.py:269: FutureWarning:\n",
      "\n",
      "`max_features='auto'` has been deprecated in 1.1 and will be removed in 1.3. To keep the past behaviour, explicitly set `max_features='sqrt'`.\n",
      "\n",
      "c:\\Users\\soumy\\anaconda3\\Lib\\site-packages\\sklearn\\tree\\_classes.py:269: FutureWarning:\n",
      "\n",
      "`max_features='auto'` has been deprecated in 1.1 and will be removed in 1.3. To keep the past behaviour, explicitly set `max_features='sqrt'`.\n",
      "\n",
      "c:\\Users\\soumy\\anaconda3\\Lib\\site-packages\\sklearn\\tree\\_classes.py:269: FutureWarning:\n",
      "\n",
      "`max_features='auto'` has been deprecated in 1.1 and will be removed in 1.3. To keep the past behaviour, explicitly set `max_features='sqrt'`.\n",
      "\n",
      "c:\\Users\\soumy\\anaconda3\\Lib\\site-packages\\sklearn\\tree\\_classes.py:269: FutureWarning:\n",
      "\n",
      "`max_features='auto'` has been deprecated in 1.1 and will be removed in 1.3. To keep the past behaviour, explicitly set `max_features='sqrt'`.\n",
      "\n",
      "c:\\Users\\soumy\\anaconda3\\Lib\\site-packages\\sklearn\\tree\\_classes.py:269: FutureWarning:\n",
      "\n",
      "`max_features='auto'` has been deprecated in 1.1 and will be removed in 1.3. To keep the past behaviour, explicitly set `max_features='sqrt'`.\n",
      "\n",
      "c:\\Users\\soumy\\anaconda3\\Lib\\site-packages\\sklearn\\tree\\_classes.py:269: FutureWarning:\n",
      "\n",
      "`max_features='auto'` has been deprecated in 1.1 and will be removed in 1.3. To keep the past behaviour, explicitly set `max_features='sqrt'`.\n",
      "\n",
      "c:\\Users\\soumy\\anaconda3\\Lib\\site-packages\\sklearn\\tree\\_classes.py:269: FutureWarning:\n",
      "\n",
      "`max_features='auto'` has been deprecated in 1.1 and will be removed in 1.3. To keep the past behaviour, explicitly set `max_features='sqrt'`.\n",
      "\n",
      "c:\\Users\\soumy\\anaconda3\\Lib\\site-packages\\sklearn\\tree\\_classes.py:269: FutureWarning:\n",
      "\n",
      "`max_features='auto'` has been deprecated in 1.1 and will be removed in 1.3. To keep the past behaviour, explicitly set `max_features='sqrt'`.\n",
      "\n",
      "c:\\Users\\soumy\\anaconda3\\Lib\\site-packages\\sklearn\\tree\\_classes.py:269: FutureWarning:\n",
      "\n",
      "`max_features='auto'` has been deprecated in 1.1 and will be removed in 1.3. To keep the past behaviour, explicitly set `max_features='sqrt'`.\n",
      "\n",
      "c:\\Users\\soumy\\anaconda3\\Lib\\site-packages\\sklearn\\tree\\_classes.py:269: FutureWarning:\n",
      "\n",
      "`max_features='auto'` has been deprecated in 1.1 and will be removed in 1.3. To keep the past behaviour, explicitly set `max_features='sqrt'`.\n",
      "\n",
      "c:\\Users\\soumy\\anaconda3\\Lib\\site-packages\\sklearn\\tree\\_classes.py:269: FutureWarning:\n",
      "\n",
      "`max_features='auto'` has been deprecated in 1.1 and will be removed in 1.3. To keep the past behaviour, explicitly set `max_features='sqrt'`.\n",
      "\n",
      "c:\\Users\\soumy\\anaconda3\\Lib\\site-packages\\sklearn\\tree\\_classes.py:269: FutureWarning:\n",
      "\n",
      "`max_features='auto'` has been deprecated in 1.1 and will be removed in 1.3. To keep the past behaviour, explicitly set `max_features='sqrt'`.\n",
      "\n",
      "c:\\Users\\soumy\\anaconda3\\Lib\\site-packages\\sklearn\\tree\\_classes.py:269: FutureWarning:\n",
      "\n",
      "`max_features='auto'` has been deprecated in 1.1 and will be removed in 1.3. To keep the past behaviour, explicitly set `max_features='sqrt'`.\n",
      "\n",
      "c:\\Users\\soumy\\anaconda3\\Lib\\site-packages\\sklearn\\tree\\_classes.py:269: FutureWarning:\n",
      "\n",
      "`max_features='auto'` has been deprecated in 1.1 and will be removed in 1.3. To keep the past behaviour, explicitly set `max_features='sqrt'`.\n",
      "\n",
      "c:\\Users\\soumy\\anaconda3\\Lib\\site-packages\\sklearn\\tree\\_classes.py:269: FutureWarning:\n",
      "\n",
      "`max_features='auto'` has been deprecated in 1.1 and will be removed in 1.3. To keep the past behaviour, explicitly set `max_features='sqrt'`.\n",
      "\n",
      "c:\\Users\\soumy\\anaconda3\\Lib\\site-packages\\sklearn\\tree\\_classes.py:269: FutureWarning:\n",
      "\n",
      "`max_features='auto'` has been deprecated in 1.1 and will be removed in 1.3. To keep the past behaviour, explicitly set `max_features='sqrt'`.\n",
      "\n",
      "c:\\Users\\soumy\\anaconda3\\Lib\\site-packages\\sklearn\\tree\\_classes.py:269: FutureWarning:\n",
      "\n",
      "`max_features='auto'` has been deprecated in 1.1 and will be removed in 1.3. To keep the past behaviour, explicitly set `max_features='sqrt'`.\n",
      "\n",
      "c:\\Users\\soumy\\anaconda3\\Lib\\site-packages\\sklearn\\tree\\_classes.py:269: FutureWarning:\n",
      "\n",
      "`max_features='auto'` has been deprecated in 1.1 and will be removed in 1.3. To keep the past behaviour, explicitly set `max_features='sqrt'`.\n",
      "\n",
      "c:\\Users\\soumy\\anaconda3\\Lib\\site-packages\\sklearn\\tree\\_classes.py:269: FutureWarning:\n",
      "\n",
      "`max_features='auto'` has been deprecated in 1.1 and will be removed in 1.3. To keep the past behaviour, explicitly set `max_features='sqrt'`.\n",
      "\n",
      "c:\\Users\\soumy\\anaconda3\\Lib\\site-packages\\sklearn\\tree\\_classes.py:269: FutureWarning:\n",
      "\n",
      "`max_features='auto'` has been deprecated in 1.1 and will be removed in 1.3. To keep the past behaviour, explicitly set `max_features='sqrt'`.\n",
      "\n",
      "c:\\Users\\soumy\\anaconda3\\Lib\\site-packages\\sklearn\\tree\\_classes.py:269: FutureWarning:\n",
      "\n",
      "`max_features='auto'` has been deprecated in 1.1 and will be removed in 1.3. To keep the past behaviour, explicitly set `max_features='sqrt'`.\n",
      "\n",
      "c:\\Users\\soumy\\anaconda3\\Lib\\site-packages\\sklearn\\tree\\_classes.py:269: FutureWarning:\n",
      "\n",
      "`max_features='auto'` has been deprecated in 1.1 and will be removed in 1.3. To keep the past behaviour, explicitly set `max_features='sqrt'`.\n",
      "\n",
      "c:\\Users\\soumy\\anaconda3\\Lib\\site-packages\\sklearn\\tree\\_classes.py:269: FutureWarning:\n",
      "\n",
      "`max_features='auto'` has been deprecated in 1.1 and will be removed in 1.3. To keep the past behaviour, explicitly set `max_features='sqrt'`.\n",
      "\n",
      "c:\\Users\\soumy\\anaconda3\\Lib\\site-packages\\sklearn\\tree\\_classes.py:269: FutureWarning:\n",
      "\n",
      "`max_features='auto'` has been deprecated in 1.1 and will be removed in 1.3. To keep the past behaviour, explicitly set `max_features='sqrt'`.\n",
      "\n",
      "c:\\Users\\soumy\\anaconda3\\Lib\\site-packages\\sklearn\\tree\\_classes.py:269: FutureWarning:\n",
      "\n",
      "`max_features='auto'` has been deprecated in 1.1 and will be removed in 1.3. To keep the past behaviour, explicitly set `max_features='sqrt'`.\n",
      "\n",
      "c:\\Users\\soumy\\anaconda3\\Lib\\site-packages\\sklearn\\tree\\_classes.py:269: FutureWarning:\n",
      "\n",
      "`max_features='auto'` has been deprecated in 1.1 and will be removed in 1.3. To keep the past behaviour, explicitly set `max_features='sqrt'`.\n",
      "\n",
      "c:\\Users\\soumy\\anaconda3\\Lib\\site-packages\\sklearn\\tree\\_classes.py:269: FutureWarning:\n",
      "\n",
      "`max_features='auto'` has been deprecated in 1.1 and will be removed in 1.3. To keep the past behaviour, explicitly set `max_features='sqrt'`.\n",
      "\n",
      "c:\\Users\\soumy\\anaconda3\\Lib\\site-packages\\sklearn\\tree\\_classes.py:269: FutureWarning:\n",
      "\n",
      "`max_features='auto'` has been deprecated in 1.1 and will be removed in 1.3. To keep the past behaviour, explicitly set `max_features='sqrt'`.\n",
      "\n",
      "c:\\Users\\soumy\\anaconda3\\Lib\\site-packages\\sklearn\\tree\\_classes.py:269: FutureWarning:\n",
      "\n",
      "`max_features='auto'` has been deprecated in 1.1 and will be removed in 1.3. To keep the past behaviour, explicitly set `max_features='sqrt'`.\n",
      "\n",
      "c:\\Users\\soumy\\anaconda3\\Lib\\site-packages\\sklearn\\tree\\_classes.py:269: FutureWarning:\n",
      "\n",
      "`max_features='auto'` has been deprecated in 1.1 and will be removed in 1.3. To keep the past behaviour, explicitly set `max_features='sqrt'`.\n",
      "\n",
      "c:\\Users\\soumy\\anaconda3\\Lib\\site-packages\\sklearn\\tree\\_classes.py:269: FutureWarning:\n",
      "\n",
      "`max_features='auto'` has been deprecated in 1.1 and will be removed in 1.3. To keep the past behaviour, explicitly set `max_features='sqrt'`.\n",
      "\n",
      "c:\\Users\\soumy\\anaconda3\\Lib\\site-packages\\sklearn\\tree\\_classes.py:269: FutureWarning:\n",
      "\n",
      "`max_features='auto'` has been deprecated in 1.1 and will be removed in 1.3. To keep the past behaviour, explicitly set `max_features='sqrt'`.\n",
      "\n",
      "c:\\Users\\soumy\\anaconda3\\Lib\\site-packages\\sklearn\\tree\\_classes.py:269: FutureWarning:\n",
      "\n",
      "`max_features='auto'` has been deprecated in 1.1 and will be removed in 1.3. To keep the past behaviour, explicitly set `max_features='sqrt'`.\n",
      "\n",
      "c:\\Users\\soumy\\anaconda3\\Lib\\site-packages\\sklearn\\tree\\_classes.py:269: FutureWarning:\n",
      "\n",
      "`max_features='auto'` has been deprecated in 1.1 and will be removed in 1.3. To keep the past behaviour, explicitly set `max_features='sqrt'`.\n",
      "\n",
      "c:\\Users\\soumy\\anaconda3\\Lib\\site-packages\\sklearn\\tree\\_classes.py:269: FutureWarning:\n",
      "\n",
      "`max_features='auto'` has been deprecated in 1.1 and will be removed in 1.3. To keep the past behaviour, explicitly set `max_features='sqrt'`.\n",
      "\n",
      "c:\\Users\\soumy\\anaconda3\\Lib\\site-packages\\sklearn\\tree\\_classes.py:269: FutureWarning:\n",
      "\n",
      "`max_features='auto'` has been deprecated in 1.1 and will be removed in 1.3. To keep the past behaviour, explicitly set `max_features='sqrt'`.\n",
      "\n",
      "c:\\Users\\soumy\\anaconda3\\Lib\\site-packages\\sklearn\\tree\\_classes.py:269: FutureWarning:\n",
      "\n",
      "`max_features='auto'` has been deprecated in 1.1 and will be removed in 1.3. To keep the past behaviour, explicitly set `max_features='sqrt'`.\n",
      "\n",
      "c:\\Users\\soumy\\anaconda3\\Lib\\site-packages\\sklearn\\tree\\_classes.py:269: FutureWarning:\n",
      "\n",
      "`max_features='auto'` has been deprecated in 1.1 and will be removed in 1.3. To keep the past behaviour, explicitly set `max_features='sqrt'`.\n",
      "\n",
      "c:\\Users\\soumy\\anaconda3\\Lib\\site-packages\\sklearn\\tree\\_classes.py:269: FutureWarning:\n",
      "\n",
      "`max_features='auto'` has been deprecated in 1.1 and will be removed in 1.3. To keep the past behaviour, explicitly set `max_features='sqrt'`.\n",
      "\n",
      "c:\\Users\\soumy\\anaconda3\\Lib\\site-packages\\sklearn\\tree\\_classes.py:269: FutureWarning:\n",
      "\n",
      "`max_features='auto'` has been deprecated in 1.1 and will be removed in 1.3. To keep the past behaviour, explicitly set `max_features='sqrt'`.\n",
      "\n",
      "c:\\Users\\soumy\\anaconda3\\Lib\\site-packages\\sklearn\\tree\\_classes.py:269: FutureWarning:\n",
      "\n",
      "`max_features='auto'` has been deprecated in 1.1 and will be removed in 1.3. To keep the past behaviour, explicitly set `max_features='sqrt'`.\n",
      "\n",
      "c:\\Users\\soumy\\anaconda3\\Lib\\site-packages\\sklearn\\tree\\_classes.py:269: FutureWarning:\n",
      "\n",
      "`max_features='auto'` has been deprecated in 1.1 and will be removed in 1.3. To keep the past behaviour, explicitly set `max_features='sqrt'`.\n",
      "\n",
      "c:\\Users\\soumy\\anaconda3\\Lib\\site-packages\\sklearn\\tree\\_classes.py:269: FutureWarning:\n",
      "\n",
      "`max_features='auto'` has been deprecated in 1.1 and will be removed in 1.3. To keep the past behaviour, explicitly set `max_features='sqrt'`.\n",
      "\n",
      "c:\\Users\\soumy\\anaconda3\\Lib\\site-packages\\sklearn\\tree\\_classes.py:269: FutureWarning:\n",
      "\n",
      "`max_features='auto'` has been deprecated in 1.1 and will be removed in 1.3. To keep the past behaviour, explicitly set `max_features='sqrt'`.\n",
      "\n",
      "c:\\Users\\soumy\\anaconda3\\Lib\\site-packages\\sklearn\\tree\\_classes.py:269: FutureWarning:\n",
      "\n",
      "`max_features='auto'` has been deprecated in 1.1 and will be removed in 1.3. To keep the past behaviour, explicitly set `max_features='sqrt'`.\n",
      "\n",
      "c:\\Users\\soumy\\anaconda3\\Lib\\site-packages\\sklearn\\tree\\_classes.py:269: FutureWarning:\n",
      "\n",
      "`max_features='auto'` has been deprecated in 1.1 and will be removed in 1.3. To keep the past behaviour, explicitly set `max_features='sqrt'`.\n",
      "\n",
      "c:\\Users\\soumy\\anaconda3\\Lib\\site-packages\\sklearn\\tree\\_classes.py:269: FutureWarning:\n",
      "\n",
      "`max_features='auto'` has been deprecated in 1.1 and will be removed in 1.3. To keep the past behaviour, explicitly set `max_features='sqrt'`.\n",
      "\n",
      "c:\\Users\\soumy\\anaconda3\\Lib\\site-packages\\sklearn\\tree\\_classes.py:269: FutureWarning:\n",
      "\n",
      "`max_features='auto'` has been deprecated in 1.1 and will be removed in 1.3. To keep the past behaviour, explicitly set `max_features='sqrt'`.\n",
      "\n",
      "c:\\Users\\soumy\\anaconda3\\Lib\\site-packages\\sklearn\\tree\\_classes.py:269: FutureWarning:\n",
      "\n",
      "`max_features='auto'` has been deprecated in 1.1 and will be removed in 1.3. To keep the past behaviour, explicitly set `max_features='sqrt'`.\n",
      "\n",
      "c:\\Users\\soumy\\anaconda3\\Lib\\site-packages\\sklearn\\tree\\_classes.py:269: FutureWarning:\n",
      "\n",
      "`max_features='auto'` has been deprecated in 1.1 and will be removed in 1.3. To keep the past behaviour, explicitly set `max_features='sqrt'`.\n",
      "\n",
      "c:\\Users\\soumy\\anaconda3\\Lib\\site-packages\\sklearn\\tree\\_classes.py:269: FutureWarning:\n",
      "\n",
      "`max_features='auto'` has been deprecated in 1.1 and will be removed in 1.3. To keep the past behaviour, explicitly set `max_features='sqrt'`.\n",
      "\n",
      "c:\\Users\\soumy\\anaconda3\\Lib\\site-packages\\sklearn\\tree\\_classes.py:269: FutureWarning:\n",
      "\n",
      "`max_features='auto'` has been deprecated in 1.1 and will be removed in 1.3. To keep the past behaviour, explicitly set `max_features='sqrt'`.\n",
      "\n",
      "c:\\Users\\soumy\\anaconda3\\Lib\\site-packages\\sklearn\\tree\\_classes.py:269: FutureWarning:\n",
      "\n",
      "`max_features='auto'` has been deprecated in 1.1 and will be removed in 1.3. To keep the past behaviour, explicitly set `max_features='sqrt'`.\n",
      "\n",
      "c:\\Users\\soumy\\anaconda3\\Lib\\site-packages\\sklearn\\tree\\_classes.py:269: FutureWarning:\n",
      "\n",
      "`max_features='auto'` has been deprecated in 1.1 and will be removed in 1.3. To keep the past behaviour, explicitly set `max_features='sqrt'`.\n",
      "\n",
      "c:\\Users\\soumy\\anaconda3\\Lib\\site-packages\\sklearn\\tree\\_classes.py:269: FutureWarning:\n",
      "\n",
      "`max_features='auto'` has been deprecated in 1.1 and will be removed in 1.3. To keep the past behaviour, explicitly set `max_features='sqrt'`.\n",
      "\n",
      "c:\\Users\\soumy\\anaconda3\\Lib\\site-packages\\sklearn\\tree\\_classes.py:269: FutureWarning:\n",
      "\n",
      "`max_features='auto'` has been deprecated in 1.1 and will be removed in 1.3. To keep the past behaviour, explicitly set `max_features='sqrt'`.\n",
      "\n",
      "c:\\Users\\soumy\\anaconda3\\Lib\\site-packages\\sklearn\\tree\\_classes.py:269: FutureWarning:\n",
      "\n",
      "`max_features='auto'` has been deprecated in 1.1 and will be removed in 1.3. To keep the past behaviour, explicitly set `max_features='sqrt'`.\n",
      "\n",
      "c:\\Users\\soumy\\anaconda3\\Lib\\site-packages\\sklearn\\tree\\_classes.py:269: FutureWarning:\n",
      "\n",
      "`max_features='auto'` has been deprecated in 1.1 and will be removed in 1.3. To keep the past behaviour, explicitly set `max_features='sqrt'`.\n",
      "\n",
      "c:\\Users\\soumy\\anaconda3\\Lib\\site-packages\\sklearn\\tree\\_classes.py:269: FutureWarning:\n",
      "\n",
      "`max_features='auto'` has been deprecated in 1.1 and will be removed in 1.3. To keep the past behaviour, explicitly set `max_features='sqrt'`.\n",
      "\n",
      "c:\\Users\\soumy\\anaconda3\\Lib\\site-packages\\sklearn\\tree\\_classes.py:269: FutureWarning:\n",
      "\n",
      "`max_features='auto'` has been deprecated in 1.1 and will be removed in 1.3. To keep the past behaviour, explicitly set `max_features='sqrt'`.\n",
      "\n",
      "c:\\Users\\soumy\\anaconda3\\Lib\\site-packages\\sklearn\\tree\\_classes.py:269: FutureWarning:\n",
      "\n",
      "`max_features='auto'` has been deprecated in 1.1 and will be removed in 1.3. To keep the past behaviour, explicitly set `max_features='sqrt'`.\n",
      "\n",
      "c:\\Users\\soumy\\anaconda3\\Lib\\site-packages\\sklearn\\tree\\_classes.py:269: FutureWarning:\n",
      "\n",
      "`max_features='auto'` has been deprecated in 1.1 and will be removed in 1.3. To keep the past behaviour, explicitly set `max_features='sqrt'`.\n",
      "\n",
      "c:\\Users\\soumy\\anaconda3\\Lib\\site-packages\\sklearn\\tree\\_classes.py:269: FutureWarning:\n",
      "\n",
      "`max_features='auto'` has been deprecated in 1.1 and will be removed in 1.3. To keep the past behaviour, explicitly set `max_features='sqrt'`.\n",
      "\n",
      "c:\\Users\\soumy\\anaconda3\\Lib\\site-packages\\sklearn\\tree\\_classes.py:269: FutureWarning:\n",
      "\n",
      "`max_features='auto'` has been deprecated in 1.1 and will be removed in 1.3. To keep the past behaviour, explicitly set `max_features='sqrt'`.\n",
      "\n",
      "c:\\Users\\soumy\\anaconda3\\Lib\\site-packages\\sklearn\\tree\\_classes.py:269: FutureWarning:\n",
      "\n",
      "`max_features='auto'` has been deprecated in 1.1 and will be removed in 1.3. To keep the past behaviour, explicitly set `max_features='sqrt'`.\n",
      "\n",
      "c:\\Users\\soumy\\anaconda3\\Lib\\site-packages\\sklearn\\tree\\_classes.py:269: FutureWarning:\n",
      "\n",
      "`max_features='auto'` has been deprecated in 1.1 and will be removed in 1.3. To keep the past behaviour, explicitly set `max_features='sqrt'`.\n",
      "\n",
      "c:\\Users\\soumy\\anaconda3\\Lib\\site-packages\\sklearn\\tree\\_classes.py:269: FutureWarning:\n",
      "\n",
      "`max_features='auto'` has been deprecated in 1.1 and will be removed in 1.3. To keep the past behaviour, explicitly set `max_features='sqrt'`.\n",
      "\n",
      "c:\\Users\\soumy\\anaconda3\\Lib\\site-packages\\sklearn\\tree\\_classes.py:269: FutureWarning:\n",
      "\n",
      "`max_features='auto'` has been deprecated in 1.1 and will be removed in 1.3. To keep the past behaviour, explicitly set `max_features='sqrt'`.\n",
      "\n",
      "c:\\Users\\soumy\\anaconda3\\Lib\\site-packages\\sklearn\\tree\\_classes.py:269: FutureWarning:\n",
      "\n",
      "`max_features='auto'` has been deprecated in 1.1 and will be removed in 1.3. To keep the past behaviour, explicitly set `max_features='sqrt'`.\n",
      "\n",
      "c:\\Users\\soumy\\anaconda3\\Lib\\site-packages\\sklearn\\tree\\_classes.py:269: FutureWarning:\n",
      "\n",
      "`max_features='auto'` has been deprecated in 1.1 and will be removed in 1.3. To keep the past behaviour, explicitly set `max_features='sqrt'`.\n",
      "\n",
      "c:\\Users\\soumy\\anaconda3\\Lib\\site-packages\\sklearn\\tree\\_classes.py:269: FutureWarning:\n",
      "\n",
      "`max_features='auto'` has been deprecated in 1.1 and will be removed in 1.3. To keep the past behaviour, explicitly set `max_features='sqrt'`.\n",
      "\n",
      "c:\\Users\\soumy\\anaconda3\\Lib\\site-packages\\sklearn\\tree\\_classes.py:269: FutureWarning:\n",
      "\n",
      "`max_features='auto'` has been deprecated in 1.1 and will be removed in 1.3. To keep the past behaviour, explicitly set `max_features='sqrt'`.\n",
      "\n",
      "c:\\Users\\soumy\\anaconda3\\Lib\\site-packages\\sklearn\\tree\\_classes.py:269: FutureWarning:\n",
      "\n",
      "`max_features='auto'` has been deprecated in 1.1 and will be removed in 1.3. To keep the past behaviour, explicitly set `max_features='sqrt'`.\n",
      "\n",
      "c:\\Users\\soumy\\anaconda3\\Lib\\site-packages\\sklearn\\tree\\_classes.py:269: FutureWarning:\n",
      "\n",
      "`max_features='auto'` has been deprecated in 1.1 and will be removed in 1.3. To keep the past behaviour, explicitly set `max_features='sqrt'`.\n",
      "\n",
      "c:\\Users\\soumy\\anaconda3\\Lib\\site-packages\\sklearn\\tree\\_classes.py:269: FutureWarning:\n",
      "\n",
      "`max_features='auto'` has been deprecated in 1.1 and will be removed in 1.3. To keep the past behaviour, explicitly set `max_features='sqrt'`.\n",
      "\n",
      "c:\\Users\\soumy\\anaconda3\\Lib\\site-packages\\sklearn\\tree\\_classes.py:269: FutureWarning:\n",
      "\n",
      "`max_features='auto'` has been deprecated in 1.1 and will be removed in 1.3. To keep the past behaviour, explicitly set `max_features='sqrt'`.\n",
      "\n",
      "c:\\Users\\soumy\\anaconda3\\Lib\\site-packages\\sklearn\\tree\\_classes.py:269: FutureWarning:\n",
      "\n",
      "`max_features='auto'` has been deprecated in 1.1 and will be removed in 1.3. To keep the past behaviour, explicitly set `max_features='sqrt'`.\n",
      "\n",
      "c:\\Users\\soumy\\anaconda3\\Lib\\site-packages\\sklearn\\tree\\_classes.py:269: FutureWarning:\n",
      "\n",
      "`max_features='auto'` has been deprecated in 1.1 and will be removed in 1.3. To keep the past behaviour, explicitly set `max_features='sqrt'`.\n",
      "\n",
      "c:\\Users\\soumy\\anaconda3\\Lib\\site-packages\\sklearn\\tree\\_classes.py:269: FutureWarning:\n",
      "\n",
      "`max_features='auto'` has been deprecated in 1.1 and will be removed in 1.3. To keep the past behaviour, explicitly set `max_features='sqrt'`.\n",
      "\n",
      "c:\\Users\\soumy\\anaconda3\\Lib\\site-packages\\sklearn\\tree\\_classes.py:269: FutureWarning:\n",
      "\n",
      "`max_features='auto'` has been deprecated in 1.1 and will be removed in 1.3. To keep the past behaviour, explicitly set `max_features='sqrt'`.\n",
      "\n",
      "c:\\Users\\soumy\\anaconda3\\Lib\\site-packages\\sklearn\\tree\\_classes.py:269: FutureWarning:\n",
      "\n",
      "`max_features='auto'` has been deprecated in 1.1 and will be removed in 1.3. To keep the past behaviour, explicitly set `max_features='sqrt'`.\n",
      "\n",
      "c:\\Users\\soumy\\anaconda3\\Lib\\site-packages\\sklearn\\tree\\_classes.py:269: FutureWarning:\n",
      "\n",
      "`max_features='auto'` has been deprecated in 1.1 and will be removed in 1.3. To keep the past behaviour, explicitly set `max_features='sqrt'`.\n",
      "\n",
      "c:\\Users\\soumy\\anaconda3\\Lib\\site-packages\\sklearn\\tree\\_classes.py:269: FutureWarning:\n",
      "\n",
      "`max_features='auto'` has been deprecated in 1.1 and will be removed in 1.3. To keep the past behaviour, explicitly set `max_features='sqrt'`.\n",
      "\n",
      "c:\\Users\\soumy\\anaconda3\\Lib\\site-packages\\sklearn\\tree\\_classes.py:269: FutureWarning:\n",
      "\n",
      "`max_features='auto'` has been deprecated in 1.1 and will be removed in 1.3. To keep the past behaviour, explicitly set `max_features='sqrt'`.\n",
      "\n",
      "c:\\Users\\soumy\\anaconda3\\Lib\\site-packages\\sklearn\\tree\\_classes.py:269: FutureWarning:\n",
      "\n",
      "`max_features='auto'` has been deprecated in 1.1 and will be removed in 1.3. To keep the past behaviour, explicitly set `max_features='sqrt'`.\n",
      "\n",
      "c:\\Users\\soumy\\anaconda3\\Lib\\site-packages\\sklearn\\tree\\_classes.py:269: FutureWarning:\n",
      "\n",
      "`max_features='auto'` has been deprecated in 1.1 and will be removed in 1.3. To keep the past behaviour, explicitly set `max_features='sqrt'`.\n",
      "\n",
      "c:\\Users\\soumy\\anaconda3\\Lib\\site-packages\\sklearn\\tree\\_classes.py:269: FutureWarning:\n",
      "\n",
      "`max_features='auto'` has been deprecated in 1.1 and will be removed in 1.3. To keep the past behaviour, explicitly set `max_features='sqrt'`.\n",
      "\n",
      "c:\\Users\\soumy\\anaconda3\\Lib\\site-packages\\sklearn\\tree\\_classes.py:269: FutureWarning:\n",
      "\n",
      "`max_features='auto'` has been deprecated in 1.1 and will be removed in 1.3. To keep the past behaviour, explicitly set `max_features='sqrt'`.\n",
      "\n",
      "c:\\Users\\soumy\\anaconda3\\Lib\\site-packages\\sklearn\\tree\\_classes.py:269: FutureWarning:\n",
      "\n",
      "`max_features='auto'` has been deprecated in 1.1 and will be removed in 1.3. To keep the past behaviour, explicitly set `max_features='sqrt'`.\n",
      "\n",
      "c:\\Users\\soumy\\anaconda3\\Lib\\site-packages\\sklearn\\tree\\_classes.py:269: FutureWarning:\n",
      "\n",
      "`max_features='auto'` has been deprecated in 1.1 and will be removed in 1.3. To keep the past behaviour, explicitly set `max_features='sqrt'`.\n",
      "\n",
      "c:\\Users\\soumy\\anaconda3\\Lib\\site-packages\\sklearn\\tree\\_classes.py:269: FutureWarning:\n",
      "\n",
      "`max_features='auto'` has been deprecated in 1.1 and will be removed in 1.3. To keep the past behaviour, explicitly set `max_features='sqrt'`.\n",
      "\n",
      "c:\\Users\\soumy\\anaconda3\\Lib\\site-packages\\sklearn\\tree\\_classes.py:269: FutureWarning:\n",
      "\n",
      "`max_features='auto'` has been deprecated in 1.1 and will be removed in 1.3. To keep the past behaviour, explicitly set `max_features='sqrt'`.\n",
      "\n",
      "c:\\Users\\soumy\\anaconda3\\Lib\\site-packages\\sklearn\\tree\\_classes.py:269: FutureWarning:\n",
      "\n",
      "`max_features='auto'` has been deprecated in 1.1 and will be removed in 1.3. To keep the past behaviour, explicitly set `max_features='sqrt'`.\n",
      "\n",
      "c:\\Users\\soumy\\anaconda3\\Lib\\site-packages\\sklearn\\tree\\_classes.py:269: FutureWarning:\n",
      "\n",
      "`max_features='auto'` has been deprecated in 1.1 and will be removed in 1.3. To keep the past behaviour, explicitly set `max_features='sqrt'`.\n",
      "\n",
      "c:\\Users\\soumy\\anaconda3\\Lib\\site-packages\\sklearn\\tree\\_classes.py:269: FutureWarning:\n",
      "\n",
      "`max_features='auto'` has been deprecated in 1.1 and will be removed in 1.3. To keep the past behaviour, explicitly set `max_features='sqrt'`.\n",
      "\n",
      "c:\\Users\\soumy\\anaconda3\\Lib\\site-packages\\sklearn\\tree\\_classes.py:269: FutureWarning:\n",
      "\n",
      "`max_features='auto'` has been deprecated in 1.1 and will be removed in 1.3. To keep the past behaviour, explicitly set `max_features='sqrt'`.\n",
      "\n",
      "c:\\Users\\soumy\\anaconda3\\Lib\\site-packages\\sklearn\\tree\\_classes.py:269: FutureWarning:\n",
      "\n",
      "`max_features='auto'` has been deprecated in 1.1 and will be removed in 1.3. To keep the past behaviour, explicitly set `max_features='sqrt'`.\n",
      "\n",
      "c:\\Users\\soumy\\anaconda3\\Lib\\site-packages\\sklearn\\tree\\_classes.py:269: FutureWarning:\n",
      "\n",
      "`max_features='auto'` has been deprecated in 1.1 and will be removed in 1.3. To keep the past behaviour, explicitly set `max_features='sqrt'`.\n",
      "\n",
      "c:\\Users\\soumy\\anaconda3\\Lib\\site-packages\\sklearn\\tree\\_classes.py:269: FutureWarning:\n",
      "\n",
      "`max_features='auto'` has been deprecated in 1.1 and will be removed in 1.3. To keep the past behaviour, explicitly set `max_features='sqrt'`.\n",
      "\n",
      "c:\\Users\\soumy\\anaconda3\\Lib\\site-packages\\sklearn\\tree\\_classes.py:269: FutureWarning:\n",
      "\n",
      "`max_features='auto'` has been deprecated in 1.1 and will be removed in 1.3. To keep the past behaviour, explicitly set `max_features='sqrt'`.\n",
      "\n",
      "c:\\Users\\soumy\\anaconda3\\Lib\\site-packages\\sklearn\\tree\\_classes.py:269: FutureWarning:\n",
      "\n",
      "`max_features='auto'` has been deprecated in 1.1 and will be removed in 1.3. To keep the past behaviour, explicitly set `max_features='sqrt'`.\n",
      "\n",
      "c:\\Users\\soumy\\anaconda3\\Lib\\site-packages\\sklearn\\tree\\_classes.py:269: FutureWarning:\n",
      "\n",
      "`max_features='auto'` has been deprecated in 1.1 and will be removed in 1.3. To keep the past behaviour, explicitly set `max_features='sqrt'`.\n",
      "\n",
      "c:\\Users\\soumy\\anaconda3\\Lib\\site-packages\\sklearn\\tree\\_classes.py:269: FutureWarning:\n",
      "\n",
      "`max_features='auto'` has been deprecated in 1.1 and will be removed in 1.3. To keep the past behaviour, explicitly set `max_features='sqrt'`.\n",
      "\n",
      "c:\\Users\\soumy\\anaconda3\\Lib\\site-packages\\sklearn\\tree\\_classes.py:269: FutureWarning:\n",
      "\n",
      "`max_features='auto'` has been deprecated in 1.1 and will be removed in 1.3. To keep the past behaviour, explicitly set `max_features='sqrt'`.\n",
      "\n",
      "c:\\Users\\soumy\\anaconda3\\Lib\\site-packages\\sklearn\\tree\\_classes.py:269: FutureWarning:\n",
      "\n",
      "`max_features='auto'` has been deprecated in 1.1 and will be removed in 1.3. To keep the past behaviour, explicitly set `max_features='sqrt'`.\n",
      "\n",
      "c:\\Users\\soumy\\anaconda3\\Lib\\site-packages\\sklearn\\tree\\_classes.py:269: FutureWarning:\n",
      "\n",
      "`max_features='auto'` has been deprecated in 1.1 and will be removed in 1.3. To keep the past behaviour, explicitly set `max_features='sqrt'`.\n",
      "\n",
      "c:\\Users\\soumy\\anaconda3\\Lib\\site-packages\\sklearn\\tree\\_classes.py:269: FutureWarning:\n",
      "\n",
      "`max_features='auto'` has been deprecated in 1.1 and will be removed in 1.3. To keep the past behaviour, explicitly set `max_features='sqrt'`.\n",
      "\n",
      "c:\\Users\\soumy\\anaconda3\\Lib\\site-packages\\sklearn\\tree\\_classes.py:269: FutureWarning:\n",
      "\n",
      "`max_features='auto'` has been deprecated in 1.1 and will be removed in 1.3. To keep the past behaviour, explicitly set `max_features='sqrt'`.\n",
      "\n",
      "c:\\Users\\soumy\\anaconda3\\Lib\\site-packages\\sklearn\\tree\\_classes.py:269: FutureWarning:\n",
      "\n",
      "`max_features='auto'` has been deprecated in 1.1 and will be removed in 1.3. To keep the past behaviour, explicitly set `max_features='sqrt'`.\n",
      "\n",
      "c:\\Users\\soumy\\anaconda3\\Lib\\site-packages\\sklearn\\tree\\_classes.py:269: FutureWarning:\n",
      "\n",
      "`max_features='auto'` has been deprecated in 1.1 and will be removed in 1.3. To keep the past behaviour, explicitly set `max_features='sqrt'`.\n",
      "\n",
      "c:\\Users\\soumy\\anaconda3\\Lib\\site-packages\\sklearn\\tree\\_classes.py:269: FutureWarning:\n",
      "\n",
      "`max_features='auto'` has been deprecated in 1.1 and will be removed in 1.3. To keep the past behaviour, explicitly set `max_features='sqrt'`.\n",
      "\n",
      "c:\\Users\\soumy\\anaconda3\\Lib\\site-packages\\sklearn\\tree\\_classes.py:269: FutureWarning:\n",
      "\n",
      "`max_features='auto'` has been deprecated in 1.1 and will be removed in 1.3. To keep the past behaviour, explicitly set `max_features='sqrt'`.\n",
      "\n",
      "c:\\Users\\soumy\\anaconda3\\Lib\\site-packages\\sklearn\\tree\\_classes.py:269: FutureWarning:\n",
      "\n",
      "`max_features='auto'` has been deprecated in 1.1 and will be removed in 1.3. To keep the past behaviour, explicitly set `max_features='sqrt'`.\n",
      "\n",
      "c:\\Users\\soumy\\anaconda3\\Lib\\site-packages\\sklearn\\tree\\_classes.py:269: FutureWarning:\n",
      "\n",
      "`max_features='auto'` has been deprecated in 1.1 and will be removed in 1.3. To keep the past behaviour, explicitly set `max_features='sqrt'`.\n",
      "\n",
      "c:\\Users\\soumy\\anaconda3\\Lib\\site-packages\\sklearn\\tree\\_classes.py:269: FutureWarning:\n",
      "\n",
      "`max_features='auto'` has been deprecated in 1.1 and will be removed in 1.3. To keep the past behaviour, explicitly set `max_features='sqrt'`.\n",
      "\n",
      "c:\\Users\\soumy\\anaconda3\\Lib\\site-packages\\sklearn\\tree\\_classes.py:269: FutureWarning:\n",
      "\n",
      "`max_features='auto'` has been deprecated in 1.1 and will be removed in 1.3. To keep the past behaviour, explicitly set `max_features='sqrt'`.\n",
      "\n",
      "c:\\Users\\soumy\\anaconda3\\Lib\\site-packages\\sklearn\\tree\\_classes.py:269: FutureWarning:\n",
      "\n",
      "`max_features='auto'` has been deprecated in 1.1 and will be removed in 1.3. To keep the past behaviour, explicitly set `max_features='sqrt'`.\n",
      "\n",
      "c:\\Users\\soumy\\anaconda3\\Lib\\site-packages\\sklearn\\tree\\_classes.py:269: FutureWarning:\n",
      "\n",
      "`max_features='auto'` has been deprecated in 1.1 and will be removed in 1.3. To keep the past behaviour, explicitly set `max_features='sqrt'`.\n",
      "\n",
      "c:\\Users\\soumy\\anaconda3\\Lib\\site-packages\\sklearn\\tree\\_classes.py:269: FutureWarning:\n",
      "\n",
      "`max_features='auto'` has been deprecated in 1.1 and will be removed in 1.3. To keep the past behaviour, explicitly set `max_features='sqrt'`.\n",
      "\n",
      "c:\\Users\\soumy\\anaconda3\\Lib\\site-packages\\sklearn\\tree\\_classes.py:269: FutureWarning:\n",
      "\n",
      "`max_features='auto'` has been deprecated in 1.1 and will be removed in 1.3. To keep the past behaviour, explicitly set `max_features='sqrt'`.\n",
      "\n",
      "c:\\Users\\soumy\\anaconda3\\Lib\\site-packages\\sklearn\\tree\\_classes.py:269: FutureWarning:\n",
      "\n",
      "`max_features='auto'` has been deprecated in 1.1 and will be removed in 1.3. To keep the past behaviour, explicitly set `max_features='sqrt'`.\n",
      "\n",
      "c:\\Users\\soumy\\anaconda3\\Lib\\site-packages\\sklearn\\tree\\_classes.py:269: FutureWarning:\n",
      "\n",
      "`max_features='auto'` has been deprecated in 1.1 and will be removed in 1.3. To keep the past behaviour, explicitly set `max_features='sqrt'`.\n",
      "\n",
      "c:\\Users\\soumy\\anaconda3\\Lib\\site-packages\\sklearn\\tree\\_classes.py:269: FutureWarning:\n",
      "\n",
      "`max_features='auto'` has been deprecated in 1.1 and will be removed in 1.3. To keep the past behaviour, explicitly set `max_features='sqrt'`.\n",
      "\n",
      "c:\\Users\\soumy\\anaconda3\\Lib\\site-packages\\sklearn\\tree\\_classes.py:269: FutureWarning:\n",
      "\n",
      "`max_features='auto'` has been deprecated in 1.1 and will be removed in 1.3. To keep the past behaviour, explicitly set `max_features='sqrt'`.\n",
      "\n",
      "c:\\Users\\soumy\\anaconda3\\Lib\\site-packages\\sklearn\\tree\\_classes.py:269: FutureWarning:\n",
      "\n",
      "`max_features='auto'` has been deprecated in 1.1 and will be removed in 1.3. To keep the past behaviour, explicitly set `max_features='sqrt'`.\n",
      "\n",
      "c:\\Users\\soumy\\anaconda3\\Lib\\site-packages\\sklearn\\tree\\_classes.py:269: FutureWarning:\n",
      "\n",
      "`max_features='auto'` has been deprecated in 1.1 and will be removed in 1.3. To keep the past behaviour, explicitly set `max_features='sqrt'`.\n",
      "\n",
      "c:\\Users\\soumy\\anaconda3\\Lib\\site-packages\\sklearn\\tree\\_classes.py:269: FutureWarning:\n",
      "\n",
      "`max_features='auto'` has been deprecated in 1.1 and will be removed in 1.3. To keep the past behaviour, explicitly set `max_features='sqrt'`.\n",
      "\n",
      "c:\\Users\\soumy\\anaconda3\\Lib\\site-packages\\sklearn\\tree\\_classes.py:269: FutureWarning:\n",
      "\n",
      "`max_features='auto'` has been deprecated in 1.1 and will be removed in 1.3. To keep the past behaviour, explicitly set `max_features='sqrt'`.\n",
      "\n",
      "c:\\Users\\soumy\\anaconda3\\Lib\\site-packages\\sklearn\\tree\\_classes.py:269: FutureWarning:\n",
      "\n",
      "`max_features='auto'` has been deprecated in 1.1 and will be removed in 1.3. To keep the past behaviour, explicitly set `max_features='sqrt'`.\n",
      "\n",
      "c:\\Users\\soumy\\anaconda3\\Lib\\site-packages\\sklearn\\tree\\_classes.py:269: FutureWarning:\n",
      "\n",
      "`max_features='auto'` has been deprecated in 1.1 and will be removed in 1.3. To keep the past behaviour, explicitly set `max_features='sqrt'`.\n",
      "\n",
      "c:\\Users\\soumy\\anaconda3\\Lib\\site-packages\\sklearn\\tree\\_classes.py:269: FutureWarning:\n",
      "\n",
      "`max_features='auto'` has been deprecated in 1.1 and will be removed in 1.3. To keep the past behaviour, explicitly set `max_features='sqrt'`.\n",
      "\n",
      "c:\\Users\\soumy\\anaconda3\\Lib\\site-packages\\sklearn\\tree\\_classes.py:269: FutureWarning:\n",
      "\n",
      "`max_features='auto'` has been deprecated in 1.1 and will be removed in 1.3. To keep the past behaviour, explicitly set `max_features='sqrt'`.\n",
      "\n",
      "c:\\Users\\soumy\\anaconda3\\Lib\\site-packages\\sklearn\\tree\\_classes.py:269: FutureWarning:\n",
      "\n",
      "`max_features='auto'` has been deprecated in 1.1 and will be removed in 1.3. To keep the past behaviour, explicitly set `max_features='sqrt'`.\n",
      "\n",
      "c:\\Users\\soumy\\anaconda3\\Lib\\site-packages\\sklearn\\tree\\_classes.py:269: FutureWarning:\n",
      "\n",
      "`max_features='auto'` has been deprecated in 1.1 and will be removed in 1.3. To keep the past behaviour, explicitly set `max_features='sqrt'`.\n",
      "\n",
      "c:\\Users\\soumy\\anaconda3\\Lib\\site-packages\\sklearn\\tree\\_classes.py:269: FutureWarning:\n",
      "\n",
      "`max_features='auto'` has been deprecated in 1.1 and will be removed in 1.3. To keep the past behaviour, explicitly set `max_features='sqrt'`.\n",
      "\n",
      "c:\\Users\\soumy\\anaconda3\\Lib\\site-packages\\sklearn\\tree\\_classes.py:269: FutureWarning:\n",
      "\n",
      "`max_features='auto'` has been deprecated in 1.1 and will be removed in 1.3. To keep the past behaviour, explicitly set `max_features='sqrt'`.\n",
      "\n",
      "c:\\Users\\soumy\\anaconda3\\Lib\\site-packages\\sklearn\\tree\\_classes.py:269: FutureWarning:\n",
      "\n",
      "`max_features='auto'` has been deprecated in 1.1 and will be removed in 1.3. To keep the past behaviour, explicitly set `max_features='sqrt'`.\n",
      "\n",
      "c:\\Users\\soumy\\anaconda3\\Lib\\site-packages\\sklearn\\tree\\_classes.py:269: FutureWarning:\n",
      "\n",
      "`max_features='auto'` has been deprecated in 1.1 and will be removed in 1.3. To keep the past behaviour, explicitly set `max_features='sqrt'`.\n",
      "\n",
      "c:\\Users\\soumy\\anaconda3\\Lib\\site-packages\\sklearn\\tree\\_classes.py:269: FutureWarning:\n",
      "\n",
      "`max_features='auto'` has been deprecated in 1.1 and will be removed in 1.3. To keep the past behaviour, explicitly set `max_features='sqrt'`.\n",
      "\n",
      "c:\\Users\\soumy\\anaconda3\\Lib\\site-packages\\sklearn\\tree\\_classes.py:269: FutureWarning:\n",
      "\n",
      "`max_features='auto'` has been deprecated in 1.1 and will be removed in 1.3. To keep the past behaviour, explicitly set `max_features='sqrt'`.\n",
      "\n",
      "c:\\Users\\soumy\\anaconda3\\Lib\\site-packages\\sklearn\\tree\\_classes.py:269: FutureWarning:\n",
      "\n",
      "`max_features='auto'` has been deprecated in 1.1 and will be removed in 1.3. To keep the past behaviour, explicitly set `max_features='sqrt'`.\n",
      "\n",
      "c:\\Users\\soumy\\anaconda3\\Lib\\site-packages\\sklearn\\tree\\_classes.py:269: FutureWarning:\n",
      "\n",
      "`max_features='auto'` has been deprecated in 1.1 and will be removed in 1.3. To keep the past behaviour, explicitly set `max_features='sqrt'`.\n",
      "\n",
      "c:\\Users\\soumy\\anaconda3\\Lib\\site-packages\\sklearn\\tree\\_classes.py:269: FutureWarning:\n",
      "\n",
      "`max_features='auto'` has been deprecated in 1.1 and will be removed in 1.3. To keep the past behaviour, explicitly set `max_features='sqrt'`.\n",
      "\n",
      "c:\\Users\\soumy\\anaconda3\\Lib\\site-packages\\sklearn\\tree\\_classes.py:269: FutureWarning:\n",
      "\n",
      "`max_features='auto'` has been deprecated in 1.1 and will be removed in 1.3. To keep the past behaviour, explicitly set `max_features='sqrt'`.\n",
      "\n",
      "c:\\Users\\soumy\\anaconda3\\Lib\\site-packages\\sklearn\\tree\\_classes.py:269: FutureWarning:\n",
      "\n",
      "`max_features='auto'` has been deprecated in 1.1 and will be removed in 1.3. To keep the past behaviour, explicitly set `max_features='sqrt'`.\n",
      "\n",
      "c:\\Users\\soumy\\anaconda3\\Lib\\site-packages\\sklearn\\tree\\_classes.py:269: FutureWarning:\n",
      "\n",
      "`max_features='auto'` has been deprecated in 1.1 and will be removed in 1.3. To keep the past behaviour, explicitly set `max_features='sqrt'`.\n",
      "\n",
      "c:\\Users\\soumy\\anaconda3\\Lib\\site-packages\\sklearn\\tree\\_classes.py:269: FutureWarning:\n",
      "\n",
      "`max_features='auto'` has been deprecated in 1.1 and will be removed in 1.3. To keep the past behaviour, explicitly set `max_features='sqrt'`.\n",
      "\n",
      "c:\\Users\\soumy\\anaconda3\\Lib\\site-packages\\sklearn\\tree\\_classes.py:269: FutureWarning:\n",
      "\n",
      "`max_features='auto'` has been deprecated in 1.1 and will be removed in 1.3. To keep the past behaviour, explicitly set `max_features='sqrt'`.\n",
      "\n",
      "c:\\Users\\soumy\\anaconda3\\Lib\\site-packages\\sklearn\\tree\\_classes.py:269: FutureWarning:\n",
      "\n",
      "`max_features='auto'` has been deprecated in 1.1 and will be removed in 1.3. To keep the past behaviour, explicitly set `max_features='sqrt'`.\n",
      "\n",
      "c:\\Users\\soumy\\anaconda3\\Lib\\site-packages\\sklearn\\tree\\_classes.py:269: FutureWarning:\n",
      "\n",
      "`max_features='auto'` has been deprecated in 1.1 and will be removed in 1.3. To keep the past behaviour, explicitly set `max_features='sqrt'`.\n",
      "\n",
      "c:\\Users\\soumy\\anaconda3\\Lib\\site-packages\\sklearn\\tree\\_classes.py:269: FutureWarning:\n",
      "\n",
      "`max_features='auto'` has been deprecated in 1.1 and will be removed in 1.3. To keep the past behaviour, explicitly set `max_features='sqrt'`.\n",
      "\n",
      "c:\\Users\\soumy\\anaconda3\\Lib\\site-packages\\sklearn\\tree\\_classes.py:269: FutureWarning:\n",
      "\n",
      "`max_features='auto'` has been deprecated in 1.1 and will be removed in 1.3. To keep the past behaviour, explicitly set `max_features='sqrt'`.\n",
      "\n",
      "c:\\Users\\soumy\\anaconda3\\Lib\\site-packages\\sklearn\\tree\\_classes.py:269: FutureWarning:\n",
      "\n",
      "`max_features='auto'` has been deprecated in 1.1 and will be removed in 1.3. To keep the past behaviour, explicitly set `max_features='sqrt'`.\n",
      "\n",
      "c:\\Users\\soumy\\anaconda3\\Lib\\site-packages\\sklearn\\tree\\_classes.py:269: FutureWarning:\n",
      "\n",
      "`max_features='auto'` has been deprecated in 1.1 and will be removed in 1.3. To keep the past behaviour, explicitly set `max_features='sqrt'`.\n",
      "\n",
      "c:\\Users\\soumy\\anaconda3\\Lib\\site-packages\\sklearn\\tree\\_classes.py:269: FutureWarning:\n",
      "\n",
      "`max_features='auto'` has been deprecated in 1.1 and will be removed in 1.3. To keep the past behaviour, explicitly set `max_features='sqrt'`.\n",
      "\n",
      "c:\\Users\\soumy\\anaconda3\\Lib\\site-packages\\sklearn\\tree\\_classes.py:269: FutureWarning:\n",
      "\n",
      "`max_features='auto'` has been deprecated in 1.1 and will be removed in 1.3. To keep the past behaviour, explicitly set `max_features='sqrt'`.\n",
      "\n",
      "c:\\Users\\soumy\\anaconda3\\Lib\\site-packages\\sklearn\\tree\\_classes.py:269: FutureWarning:\n",
      "\n",
      "`max_features='auto'` has been deprecated in 1.1 and will be removed in 1.3. To keep the past behaviour, explicitly set `max_features='sqrt'`.\n",
      "\n",
      "c:\\Users\\soumy\\anaconda3\\Lib\\site-packages\\sklearn\\tree\\_classes.py:269: FutureWarning:\n",
      "\n",
      "`max_features='auto'` has been deprecated in 1.1 and will be removed in 1.3. To keep the past behaviour, explicitly set `max_features='sqrt'`.\n",
      "\n",
      "c:\\Users\\soumy\\anaconda3\\Lib\\site-packages\\sklearn\\tree\\_classes.py:269: FutureWarning:\n",
      "\n",
      "`max_features='auto'` has been deprecated in 1.1 and will be removed in 1.3. To keep the past behaviour, explicitly set `max_features='sqrt'`.\n",
      "\n"
     ]
    },
    {
     "name": "stdout",
     "output_type": "stream",
     "text": [
      "Stop learning 2023-11-06 18:28:12.321487\n",
      "Elapsed learning 0:15:03.705437\n"
     ]
    }
   ],
   "source": [
    "parameters = { \n",
    "    'max_features': ['auto', 'sqrt', 'log2'],\n",
    "    'min_samples_split': [2,4,5,6,7,8,9,10], \n",
    "    'min_samples_leaf':[2,4,6,8,10]\n",
    "}\n",
    "dt = DecisionTreeClassifier();\n",
    "dt_start_time = datetime.now()\n",
    "print('Start learning at {}'.format(str(dt_start_time)))\n",
    "grid_dt = GridSearchCV(estimator=dt, param_grid=parameters, verbose=0);\n",
    "grid_dt.fit(X_train, y_train);\n",
    "dt_end_time = datetime.now() \n",
    "print('Stop learning {}'.format(str(dt_end_time)))\n",
    "dt_elapsed_time= dt_end_time - dt_start_time\n",
    "print('Elapsed learning {}'.format(str(dt_elapsed_time)))"
   ]
  },
  {
   "cell_type": "code",
   "execution_count": 90,
   "metadata": {},
   "outputs": [
    {
     "name": "stdout",
     "output_type": "stream",
     "text": [
      "{'max_features': 'log2', 'min_samples_leaf': 2, 'min_samples_split': 2}\n",
      "0.6153341994703453\n",
      "DecisionTreeClassifier(max_features='log2', min_samples_leaf=2)\n"
     ]
    }
   ],
   "source": [
    "print(grid_dt.best_params_)\n",
    "print(grid_dt.best_score_)\n",
    "print(grid_dt.best_estimator_)"
   ]
  },
  {
   "cell_type": "code",
   "execution_count": 91,
   "metadata": {
    "collapsed": true
   },
   "outputs": [],
   "source": [
    "grid_dt.best_estimator_.fit(X_train, y_train);"
   ]
  },
  {
   "cell_type": "code",
   "execution_count": 92,
   "metadata": {},
   "outputs": [
    {
     "name": "stdout",
     "output_type": "stream",
     "text": [
      "Start testing at 2023-11-06 18:28:14.590854\n",
      "Stop testing 2023-11-06 18:28:14.650967\n",
      "Elapsed testing 0:00:00.060113\n"
     ]
    }
   ],
   "source": [
    "dt_expected = y_test\n",
    "dt_start_time_test = datetime.now()\n",
    "print('Start testing at {}'.format(str(dt_start_time_test)))\n",
    "dt_predicted = grid_dt.best_estimator_.predict(X_test)\n",
    "dt_end_time_test = datetime.now() \n",
    "print('Stop testing {}'.format(str(dt_end_time_test)))\n",
    "dt_elapsed_time_test = dt_end_time_test - dt_start_time_test\n",
    "print('Elapsed testing {}'.format(str(dt_elapsed_time_test)))\n",
    "dt_cm = metrics.confusion_matrix(dt_expected, dt_predicted)"
   ]
  },
  {
   "cell_type": "code",
   "execution_count": 93,
   "metadata": {},
   "outputs": [
    {
     "name": "stdout",
     "output_type": "stream",
     "text": [
      "Accuracy=0.6440329620857719\n"
     ]
    },
    {
     "name": "stdout",
     "output_type": "stream",
     "text": [
      "Classification report for classifier Logistic Regression:\n",
      "              precision    recall  f1-score   support\n",
      "\n",
      "           0       0.59      0.70      0.64     13836\n",
      "           1       0.38      0.41      0.40      4848\n",
      "           2       0.58      0.53      0.55     10149\n",
      "           3       0.81      0.77      0.79     19294\n",
      "           4       0.52      0.34      0.41      2962\n",
      "\n",
      "    accuracy                           0.64     51089\n",
      "   macro avg       0.58      0.55      0.56     51089\n",
      "weighted avg       0.65      0.64      0.64     51089\n",
      "\n",
      "\n",
      "Confusion matrix:\n",
      "[[ 9642  1273  1426  1298   197]\n",
      " [ 1662  1971   776   375    64]\n",
      " [ 2411  1116  5414   973   235]\n",
      " [ 2152   556  1286 14856   444]\n",
      " [  482   204   473   783  1020]]\n"
     ]
    }
   ],
   "source": [
    "print(\"Accuracy={}\".format(metrics.accuracy_score(dt_expected, dt_predicted)))\n",
    "print(\"Classification report for classifier %s:\\n%s\\n\"\n",
    "      % (\"Logistic Regression\", metrics.classification_report(dt_expected, dt_predicted)))\n",
    "print(\"Confusion matrix:\\n%s\" % dt_cm)"
   ]
  },
  {
   "cell_type": "code",
   "execution_count": null,
   "metadata": {},
   "outputs": [
    {
     "data": {
      "image/png": "[encoded data removed]",
      "text/plain": [
       "<Figure size 432x288 with 2 Axes>"
      ]
     },
     "metadata": {
      "needs_background": "light"
     },
     "output_type": "display_data"
    }
   ],
   "source": [
    "ConfusionMatrixDisplay.from_predictions(dt_expected, dt_predicted)\n",
    "plt.show()"
   ]
  },
  {
   "cell_type": "markdown",
   "metadata": {},
   "source": [
    "### XG-Boost"
   ]
  },
  {
   "cell_type": "code",
   "execution_count": 19,
   "metadata": {},
   "outputs": [
    {
     "name": "stdout",
     "output_type": "stream",
     "text": [
      "Start learning at 2023-11-13 22:55:28.598516\n"
     ]
    },
    {
     "name": "stdout",
     "output_type": "stream",
     "text": [
      "Stop learning 2023-11-13 22:57:49.618636\n",
      "Elapsed learning 0:02:21.020120\n"
     ]
    }
   ],
   "source": [
    "parameters = { \n",
    "    'max_depth' : [10],\n",
    "    'n_estimators': [100,200],\n",
    "    'booster': ['gbtree']\n",
    "}\n",
    "xgb = XGBClassifier();\n",
    "xgb_start_time = datetime.now()\n",
    "print('Start learning at {}'.format(str(xgb_start_time)))\n",
    "grid_xgb = GridSearchCV(estimator=xgb, param_grid=parameters, verbose=0);\n",
    "grid_xgb.fit(X_train, y_train);\n",
    "xgb_end_time = datetime.now() \n",
    "print('Stop learning {}'.format(str(xgb_end_time)))\n",
    "xgb_elapsed_time= xgb_end_time - xgb_start_time\n",
    "print('Elapsed learning {}'.format(str(xgb_elapsed_time)))"
   ]
  },
  {
   "cell_type": "code",
   "execution_count": 20,
   "metadata": {},
   "outputs": [
    {
     "name": "stdout",
     "output_type": "stream",
     "text": [
      "{'booster': 'gbtree', 'max_depth': 10, 'n_estimators': 200}\n",
      "0.8117301016149945\n",
      "XGBClassifier(base_score=None, booster='gbtree', callbacks=None,\n",
      "              colsample_bylevel=None, colsample_bynode=None,\n",
      "              colsample_bytree=None, device=None, early_stopping_rounds=None,\n",
      "              enable_categorical=False, eval_metric=None, feature_types=None,\n",
      "              gamma=None, grow_policy=None, importance_type=None,\n",
      "              interaction_constraints=None, learning_rate=None, max_bin=None,\n",
      "              max_cat_threshold=None, max_cat_to_onehot=None,\n",
      "              max_delta_step=None, max_depth=10, max_leaves=None,\n",
      "              min_child_weight=None, missing=nan, monotone_constraints=None,\n",
      "              multi_strategy=None, n_estimators=200, n_jobs=None,\n",
      "              num_parallel_tree=None, objective='multi:softprob', ...)\n"
     ]
    }
   ],
   "source": [
    "print(grid_xgb.best_params_)\n",
    "print(grid_xgb.best_score_)\n",
    "print(grid_xgb.best_estimator_)"
   ]
  },
  {
   "cell_type": "code",
   "execution_count": 21,
   "metadata": {
    "collapsed": true
   },
   "outputs": [],
   "source": [
    "grid_xgb.best_estimator_.fit(X_train2, y_train);"
   ]
  },
  {
   "cell_type": "code",
   "execution_count": 22,
   "metadata": {},
   "outputs": [],
   "source": [
    "xgb = XGBClassifier(n_estimators=200,max_depth=10,booster='gbtree');\n",
    "xgb.fit(X_train2, y_train);\n",
    "xgb_expected = y_test\n",
    "xgb_predicted = xgb.predict(X_test2)\n",
    "xgb_cm = metrics.confusion_matrix(xgb_expected, xgb_predicted)"
   ]
  },
  {
   "cell_type": "code",
   "execution_count": 23,
   "metadata": {},
   "outputs": [
    {
     "name": "stdout",
     "output_type": "stream",
     "text": [
      "Start testing at 2023-11-13 22:58:28.067681\n"
     ]
    },
    {
     "name": "stdout",
     "output_type": "stream",
     "text": [
      "Stop testing 2023-11-13 22:58:28.507675\n",
      "Elapsed testing 0:00:00.439994\n"
     ]
    }
   ],
   "source": [
    "xgb_expected = y_test\n",
    "xgb_start_time_test = datetime.now()\n",
    "print('Start testing at {}'.format(str(xgb_start_time_test)))\n",
    "xgb_predicted = xgb.predict(X_test2)\n",
    "xgb_end_time_test = datetime.now() \n",
    "print('Stop testing {}'.format(str(xgb_end_time_test)))\n",
    "xgb_elapsed_time_test = xgb_end_time_test - xgb_start_time_test\n",
    "print('Elapsed testing {}'.format(str(xgb_elapsed_time_test)))\n",
    "xgb_cm = metrics.confusion_matrix(xgb_expected, xgb_predicted)"
   ]
  },
  {
   "cell_type": "code",
   "execution_count": 24,
   "metadata": {},
   "outputs": [
    {
     "name": "stdout",
     "output_type": "stream",
     "text": [
      "Accuracy=0.826798113322132\n",
      "Classification report for classifier XG-Boost:\n",
      "              precision    recall  f1-score   support\n",
      "\n",
      "           0       0.75      0.84      0.79     10960\n",
      "           1       0.78      0.60      0.68      5265\n",
      "           2       0.80      0.75      0.77      9330\n",
      "           3       0.89      0.93      0.91     18322\n",
      "           4       0.87      0.79      0.83      5522\n",
      "\n",
      "    accuracy                           0.83     49399\n",
      "   macro avg       0.82      0.78      0.80     49399\n",
      "weighted avg       0.83      0.83      0.82     49399\n",
      "\n",
      "\n",
      "Confusion matrix:\n",
      "[[ 9220   439   621   572   108]\n",
      " [ 1264  3185   605   163    48]\n",
      " [ 1105   350  7014   701   160]\n",
      " [  566    66   277 17077   336]\n",
      " [  180    33   280   682  4347]]\n"
     ]
    }
   ],
   "source": [
    "print(\"Accuracy={}\".format(metrics.accuracy_score(xgb_expected, xgb_predicted)))\n",
    "print(\"Classification report for classifier %s:\\n%s\\n\"\n",
    "      % (\"XG-Boost\", metrics.classification_report(xgb_expected, xgb_predicted)))\n",
    "print(\"Confusion matrix:\\n%s\" % xgb_cm)"
   ]
  },
  {
   "cell_type": "code",
   "execution_count": null,
   "metadata": {},
   "outputs": [
    {
     "data": {
      "text/plain": [
       "<Figure size 1800x1200 with 0 Axes>"
      ]
     },
     "metadata": {},
     "output_type": "display_data"
    },
    {
     "data": {
      "image/png": "[encoded data removed]",
      "text/plain": [
       "<Figure size 432x288 with 2 Axes>"
      ]
     },
     "metadata": {
      "needs_background": "light"
     },
     "output_type": "display_data"
    }
   ],
   "source": [
    "plt.figure(dpi=300)\n",
    "ConfusionMatrixDisplay.from_predictions(xgb_expected, xgb_predicted)\n",
    "plt.show()"
   ]
  },
  {
   "cell_type": "markdown",
   "metadata": {
    "collapsed": true
   },
   "source": [
    "## 3. Testing"
   ]
  },
  {
   "cell_type": "code",
   "execution_count": 40,
   "metadata": {
    "collapsed": true
   },
   "outputs": [
    {
     "name": "stdout",
     "output_type": "stream",
     "text": [
      "4\n",
      "[[0.35204846 0.05295288 0.03209766 0.00195467 0.56094635]]\n"
     ]
    }
   ],
   "source": [
    "Test = np.array([[6,41.876248,-87.653065,50]])\n",
    "Test2 = scaler.transform(Test)\n",
    "print(xgb.predict(Test2)[0])\n",
    "print(xgb.predict_proba(Test2))"
   ]
  },
  {
   "cell_type": "code",
   "execution_count": null,
   "metadata": {
    "collapsed": true
   },
   "outputs": [
    {
     "name": "stdout",
     "output_type": "stream",
     "text": [
      "[0 0 1 ... 0 0 1]\n"
     ]
    }
   ],
   "source": [
    "print(grid_xgb.best_estimator_.predict(X_test))"
   ]
  },
  {
   "cell_type": "code",
   "execution_count": null,
   "metadata": {
    "collapsed": true
   },
   "outputs": [
    {
     "name": "stdout",
     "output_type": "stream",
     "text": [
      "[[ 0.61286694 -1.94729926  2.0722281  -0.49585716 -0.35029065  0.79757858]]\n",
      "[1]\n",
      "[[7.1525574e-05 9.9992847e-01]]\n"
     ]
    }
   ],
   "source": [
    "Test = np.array([[ 21, 0, 42.0122934 , -87.69971411, 15, 9]])\n",
    "print(scaler.transform(Test))\n",
    "Test2 = np.array([[-0.50714446,  0.70064672,  1.33995114, -1.07622397, -1.12694646, -0.47388072]])\n",
    "scaler.transform(Test2)\n",
    "print(xgb.predict(Test2))\n",
    "print(xgb.predict_proba(Test2))"
   ]
  },
  {
   "cell_type": "code",
   "execution_count": null,
   "metadata": {},
   "outputs": [
    {
     "name": "stdout",
     "output_type": "stream",
     "text": [
      "[[0.86673784 0.13326216]]\n"
     ]
    }
   ],
   "source": [
    "Test = np.array([[ 21, 0, 42.0122934, -87.69971411, 15, 9]])\n",
    "print(xgb.predict_proba(scaler.transform(Test)))"
   ]
  },
  {
   "cell_type": "code",
   "execution_count": 25,
   "metadata": {},
   "outputs": [],
   "source": [
    "pickle.dump(xgb, open('./xgboost.pkl', 'wb'))"
   ]
  },
  {
   "cell_type": "code",
   "execution_count": null,
   "metadata": {},
   "outputs": [],
   "source": []
  }
 ],
 "metadata": {
  "kernelspec": {
   "display_name": "Python 3",
   "language": "python",
   "name": "python3"
  },
  "language_info": {
   "codemirror_mode": {
    "name": "ipython",
    "version": 3
   },
   "file_extension": ".py",
   "mimetype": "text/x-python",
   "name": "python",
   "nbconvert_exporter": "python",
   "pygments_lexer": "ipython3",
   "version": "3.9.12"
  }
 },
 "nbformat": 4,
 "nbformat_minor": 2
}
