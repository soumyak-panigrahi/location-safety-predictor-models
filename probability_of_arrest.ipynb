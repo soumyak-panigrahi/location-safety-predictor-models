{
 "cells": [
  {
   "cell_type": "markdown",
   "metadata": {},
   "source": [
    "### 0. Import the Libraries"
   ]
  },
  {
   "cell_type": "code",
   "execution_count": 1,
   "metadata": {},
   "outputs": [],
   "source": [
    "import pickle\n",
    "from chart_studio import plotly as py\n",
    "import plotly.tools as tls\n",
    "from plotly.graph_objs import *\n",
    "from datetime import datetime\n",
    "from collections import Counter\n",
    "import itertools\n",
    "import numpy as np\n",
    "import pandas as pd\n",
    "import dask.dataframe as dd\n",
    "import matplotlib.pyplot as plt\n",
    "import matplotlib.ticker as ticker\n",
    "import seaborn as sns\n",
    "import os\n",
    "\n",
    "from sklearn.model_selection import GridSearchCV\n",
    "from sklearn import datasets, metrics\n",
    "from sklearn.model_selection import train_test_split\n",
    "from sklearn.preprocessing import StandardScaler\n",
    "from sklearn.datasets import make_moons, make_circles, make_classification\n",
    "from sklearn.neighbors import KNeighborsClassifier\n",
    "from sklearn.metrics import confusion_matrix\n",
    "from sklearn.metrics import ConfusionMatrixDisplay\n",
    "from sklearn.svm import SVC\n",
    "from sklearn.tree import DecisionTreeClassifier\n",
    "from sklearn.ensemble import RandomForestClassifier, AdaBoostClassifier\n",
    "from sklearn.naive_bayes import GaussianNB\n",
    "from sklearn.discriminant_analysis import LinearDiscriminantAnalysis as LDA\n",
    "from sklearn.discriminant_analysis import QuadraticDiscriminantAnalysis as QDA\n",
    "from sklearn.preprocessing import LabelEncoder\n",
    "from sklearn.linear_model import LogisticRegression\n",
    "from sklearn.feature_extraction import DictVectorizer\n",
    "from imblearn.combine import SMOTEENN\n",
    "\n",
    "from xgboost import XGBClassifier\n"
   ]
  },
  {
   "cell_type": "markdown",
   "metadata": {},
   "source": [
    "## 1. Loading and Preparing Data"
   ]
  },
  {
   "cell_type": "markdown",
   "metadata": {},
   "source": [
    "### Reading and merge dataset"
   ]
  },
  {
   "cell_type": "code",
   "execution_count": 2,
   "metadata": {
    "collapsed": true
   },
   "outputs": [],
   "source": [
    "df_18 = pd.read_csv(\"./data/Chicago_Crimes_2018.csv\")\n",
    "df_19 = pd.read_csv(\"./data/Chicago_Crimes_2019.csv\")\n",
    "df_20 = pd.read_csv(\"./data/Chicago_Crimes_2020.csv\")\n",
    "df_21 = pd.read_csv(\"./data/Chicago_Crimes_2021.csv\")\n",
    "df_22 = pd.read_csv(\"./data/Chicago_Crimes_2022.csv\")\n",
    "df_23 = pd.read_csv(\"./data/Chicago_Crimes_2023.csv\")\n",
    "df_raw = pd.concat([df_18, df_19, df_20, df_21, df_22, df_23], ignore_index=True)"
   ]
  },
  {
   "cell_type": "code",
   "execution_count": 3,
   "metadata": {},
   "outputs": [
    {
     "data": {
      "text/plain": [
       "Index(['ID', 'Case Number', 'Date', 'Block', 'IUCR', 'Primary Type',\n",
       "       'Description', 'Location Description', 'Arrest', 'Domestic', 'Beat',\n",
       "       'District', 'Ward', 'Community Area', 'FBI Code', 'X Coordinate',\n",
       "       'Y Coordinate', 'Year', 'Updated On', 'Latitude', 'Longitude',\n",
       "       'Location'],\n",
       "      dtype='object')"
      ]
     },
     "execution_count": 3,
     "metadata": {},
     "output_type": "execute_result"
    }
   ],
   "source": [
    "df_raw.columns"
   ]
  },
  {
   "cell_type": "code",
   "execution_count": 4,
   "metadata": {
    "collapsed": true
   },
   "outputs": [],
   "source": [
    "selected_columns = ['Date', 'Latitude', 'Longitude', 'Arrest']\n",
    "df = df_raw[selected_columns]"
   ]
  },
  {
   "cell_type": "code",
   "execution_count": 5,
   "metadata": {},
   "outputs": [
    {
     "data": {
      "text/html": [
       "<div>\n",
       "<style scoped>\n",
       "    .dataframe tbody tr th:only-of-type {\n",
       "        vertical-align: middle;\n",
       "    }\n",
       "\n",
       "    .dataframe tbody tr th {\n",
       "        vertical-align: top;\n",
       "    }\n",
       "\n",
       "    .dataframe thead th {\n",
       "        text-align: right;\n",
       "    }\n",
       "</style>\n",
       "<table border=\"1\" class=\"dataframe\">\n",
       "  <thead>\n",
       "    <tr style=\"text-align: right;\">\n",
       "      <th></th>\n",
       "      <th>Date</th>\n",
       "      <th>Latitude</th>\n",
       "      <th>Longitude</th>\n",
       "      <th>Arrest</th>\n",
       "    </tr>\n",
       "  </thead>\n",
       "  <tbody>\n",
       "    <tr>\n",
       "      <th>0</th>\n",
       "      <td>11/09/2018 12:00:00 AM</td>\n",
       "      <td>41.911574</td>\n",
       "      <td>-87.789972</td>\n",
       "      <td>False</td>\n",
       "    </tr>\n",
       "    <tr>\n",
       "      <th>1</th>\n",
       "      <td>09/15/2018 08:00:00 AM</td>\n",
       "      <td>NaN</td>\n",
       "      <td>NaN</td>\n",
       "      <td>True</td>\n",
       "    </tr>\n",
       "    <tr>\n",
       "      <th>2</th>\n",
       "      <td>09/30/2018 01:05:00 PM</td>\n",
       "      <td>41.694643</td>\n",
       "      <td>-87.661565</td>\n",
       "      <td>False</td>\n",
       "    </tr>\n",
       "    <tr>\n",
       "      <th>3</th>\n",
       "      <td>09/01/2018 12:00:00 AM</td>\n",
       "      <td>NaN</td>\n",
       "      <td>NaN</td>\n",
       "      <td>False</td>\n",
       "    </tr>\n",
       "    <tr>\n",
       "      <th>4</th>\n",
       "      <td>12/14/2018 02:45:00 PM</td>\n",
       "      <td>NaN</td>\n",
       "      <td>NaN</td>\n",
       "      <td>False</td>\n",
       "    </tr>\n",
       "  </tbody>\n",
       "</table>\n",
       "</div>"
      ],
      "text/plain": [
       "                     Date   Latitude  Longitude  Arrest\n",
       "0  11/09/2018 12:00:00 AM  41.911574 -87.789972   False\n",
       "1  09/15/2018 08:00:00 AM        NaN        NaN    True\n",
       "2  09/30/2018 01:05:00 PM  41.694643 -87.661565   False\n",
       "3  09/01/2018 12:00:00 AM        NaN        NaN   False\n",
       "4  12/14/2018 02:45:00 PM        NaN        NaN   False"
      ]
     },
     "execution_count": 5,
     "metadata": {},
     "output_type": "execute_result"
    }
   ],
   "source": [
    "df.head()"
   ]
  },
  {
   "cell_type": "code",
   "execution_count": 6,
   "metadata": {},
   "outputs": [
    {
     "name": "stdout",
     "output_type": "stream",
     "text": [
      "1,373,071 total crime records\n"
     ]
    }
   ],
   "source": [
    "print(\"{:,} total crime records\".format(len(df)))"
   ]
  },
  {
   "cell_type": "markdown",
   "metadata": {},
   "source": [
    "### Drop the duplicates"
   ]
  },
  {
   "cell_type": "code",
   "execution_count": 7,
   "metadata": {},
   "outputs": [
    {
     "name": "stdout",
     "output_type": "stream",
     "text": [
      "1,360,210 total crime records after removing duplicates\n"
     ]
    }
   ],
   "source": [
    "df = df.drop_duplicates()\n",
    "print(\"{:,} total crime records after removing duplicates\".format(len(df)))"
   ]
  },
  {
   "cell_type": "markdown",
   "metadata": {},
   "source": [
    "### Break up date into components"
   ]
  },
  {
   "cell_type": "code",
   "execution_count": 8,
   "metadata": {
    "collapsed": true
   },
   "outputs": [],
   "source": [
    "def break_up_date(str_date):\n",
    "    date_format = '%m/%d/%Y %I:%M:%S %p'\n",
    "    date = datetime.strptime(str_date, date_format)\n",
    "    return date\n",
    "\n",
    "years = []\n",
    "months = []\n",
    "days = []\n",
    "hours = []\n",
    "minutes = []\n",
    "for date in map(break_up_date,df['Date']):\n",
    "    years.append(date.year)\n",
    "    months.append(date.month)\n",
    "    days.append(date.day)\n",
    "    hours.append(date.hour)\n",
    "    minutes.append(date.minute)\n",
    "df['Year'] = years\n",
    "df['Month'] = months\n",
    "df['Day'] =  days\n",
    "df['Hour'] = hours\n",
    "df['Minute'] = minutes"
   ]
  },
  {
   "cell_type": "code",
   "execution_count": 9,
   "metadata": {
    "collapsed": true
   },
   "outputs": [],
   "source": [
    "df.drop('Date',axis=1,inplace=True)"
   ]
  },
  {
   "cell_type": "code",
   "execution_count": 10,
   "metadata": {},
   "outputs": [
    {
     "data": {
      "text/html": [
       "<div>\n",
       "<style scoped>\n",
       "    .dataframe tbody tr th:only-of-type {\n",
       "        vertical-align: middle;\n",
       "    }\n",
       "\n",
       "    .dataframe tbody tr th {\n",
       "        vertical-align: top;\n",
       "    }\n",
       "\n",
       "    .dataframe thead th {\n",
       "        text-align: right;\n",
       "    }\n",
       "</style>\n",
       "<table border=\"1\" class=\"dataframe\">\n",
       "  <thead>\n",
       "    <tr style=\"text-align: right;\">\n",
       "      <th></th>\n",
       "      <th>Latitude</th>\n",
       "      <th>Longitude</th>\n",
       "      <th>Arrest</th>\n",
       "      <th>Year</th>\n",
       "      <th>Month</th>\n",
       "      <th>Day</th>\n",
       "      <th>Hour</th>\n",
       "      <th>Minute</th>\n",
       "    </tr>\n",
       "  </thead>\n",
       "  <tbody>\n",
       "    <tr>\n",
       "      <th>0</th>\n",
       "      <td>41.911574</td>\n",
       "      <td>-87.789972</td>\n",
       "      <td>False</td>\n",
       "      <td>2018</td>\n",
       "      <td>11</td>\n",
       "      <td>9</td>\n",
       "      <td>0</td>\n",
       "      <td>0</td>\n",
       "    </tr>\n",
       "    <tr>\n",
       "      <th>1</th>\n",
       "      <td>NaN</td>\n",
       "      <td>NaN</td>\n",
       "      <td>True</td>\n",
       "      <td>2018</td>\n",
       "      <td>9</td>\n",
       "      <td>15</td>\n",
       "      <td>8</td>\n",
       "      <td>0</td>\n",
       "    </tr>\n",
       "    <tr>\n",
       "      <th>2</th>\n",
       "      <td>41.694643</td>\n",
       "      <td>-87.661565</td>\n",
       "      <td>False</td>\n",
       "      <td>2018</td>\n",
       "      <td>9</td>\n",
       "      <td>30</td>\n",
       "      <td>13</td>\n",
       "      <td>5</td>\n",
       "    </tr>\n",
       "    <tr>\n",
       "      <th>3</th>\n",
       "      <td>NaN</td>\n",
       "      <td>NaN</td>\n",
       "      <td>False</td>\n",
       "      <td>2018</td>\n",
       "      <td>9</td>\n",
       "      <td>1</td>\n",
       "      <td>0</td>\n",
       "      <td>0</td>\n",
       "    </tr>\n",
       "    <tr>\n",
       "      <th>4</th>\n",
       "      <td>NaN</td>\n",
       "      <td>NaN</td>\n",
       "      <td>False</td>\n",
       "      <td>2018</td>\n",
       "      <td>12</td>\n",
       "      <td>14</td>\n",
       "      <td>14</td>\n",
       "      <td>45</td>\n",
       "    </tr>\n",
       "  </tbody>\n",
       "</table>\n",
       "</div>"
      ],
      "text/plain": [
       "    Latitude  Longitude  Arrest  Year  Month  Day  Hour  Minute\n",
       "0  41.911574 -87.789972   False  2018     11    9     0       0\n",
       "1        NaN        NaN    True  2018      9   15     8       0\n",
       "2  41.694643 -87.661565   False  2018      9   30    13       5\n",
       "3        NaN        NaN   False  2018      9    1     0       0\n",
       "4        NaN        NaN   False  2018     12   14    14      45"
      ]
     },
     "execution_count": 10,
     "metadata": {},
     "output_type": "execute_result"
    }
   ],
   "source": [
    "df.head()"
   ]
  },
  {
   "cell_type": "markdown",
   "metadata": {},
   "source": [
    "### Drop NA values"
   ]
  },
  {
   "cell_type": "code",
   "execution_count": 11,
   "metadata": {},
   "outputs": [
    {
     "name": "stdout",
     "output_type": "stream",
     "text": [
      "1,340,842 total crime records after removing NAs\n"
     ]
    }
   ],
   "source": [
    "df.dropna(axis=0,how='any', inplace=True)\n",
    "print(\"{:,} total crime records after removing NAs\".format(len(df)))"
   ]
  },
  {
   "cell_type": "code",
   "execution_count": 57,
   "metadata": {},
   "outputs": [
    {
     "data": {
      "text/html": [
       "<div>\n",
       "<style scoped>\n",
       "    .dataframe tbody tr th:only-of-type {\n",
       "        vertical-align: middle;\n",
       "    }\n",
       "\n",
       "    .dataframe tbody tr th {\n",
       "        vertical-align: top;\n",
       "    }\n",
       "\n",
       "    .dataframe thead th {\n",
       "        text-align: right;\n",
       "    }\n",
       "</style>\n",
       "<table border=\"1\" class=\"dataframe\">\n",
       "  <thead>\n",
       "    <tr style=\"text-align: right;\">\n",
       "      <th></th>\n",
       "      <th>Latitude</th>\n",
       "      <th>Longitude</th>\n",
       "      <th>Arrest</th>\n",
       "      <th>Year</th>\n",
       "      <th>Month</th>\n",
       "      <th>Day</th>\n",
       "      <th>Hour</th>\n",
       "      <th>Minute</th>\n",
       "    </tr>\n",
       "  </thead>\n",
       "  <tbody>\n",
       "    <tr>\n",
       "      <th>0</th>\n",
       "      <td>41.911574</td>\n",
       "      <td>-87.789972</td>\n",
       "      <td>False</td>\n",
       "      <td>2018</td>\n",
       "      <td>11</td>\n",
       "      <td>9</td>\n",
       "      <td>0</td>\n",
       "      <td>0</td>\n",
       "    </tr>\n",
       "    <tr>\n",
       "      <th>2</th>\n",
       "      <td>41.694643</td>\n",
       "      <td>-87.661565</td>\n",
       "      <td>False</td>\n",
       "      <td>2018</td>\n",
       "      <td>9</td>\n",
       "      <td>30</td>\n",
       "      <td>13</td>\n",
       "      <td>5</td>\n",
       "    </tr>\n",
       "    <tr>\n",
       "      <th>10</th>\n",
       "      <td>41.998188</td>\n",
       "      <td>-87.697224</td>\n",
       "      <td>False</td>\n",
       "      <td>2018</td>\n",
       "      <td>1</td>\n",
       "      <td>1</td>\n",
       "      <td>0</td>\n",
       "      <td>1</td>\n",
       "    </tr>\n",
       "    <tr>\n",
       "      <th>11</th>\n",
       "      <td>41.872699</td>\n",
       "      <td>-87.688629</td>\n",
       "      <td>True</td>\n",
       "      <td>2018</td>\n",
       "      <td>9</td>\n",
       "      <td>1</td>\n",
       "      <td>11</td>\n",
       "      <td>49</td>\n",
       "    </tr>\n",
       "    <tr>\n",
       "      <th>16</th>\n",
       "      <td>41.764193</td>\n",
       "      <td>-87.652879</td>\n",
       "      <td>False</td>\n",
       "      <td>2018</td>\n",
       "      <td>5</td>\n",
       "      <td>1</td>\n",
       "      <td>0</td>\n",
       "      <td>0</td>\n",
       "    </tr>\n",
       "  </tbody>\n",
       "</table>\n",
       "</div>"
      ],
      "text/plain": [
       "     Latitude  Longitude  Arrest  Year  Month  Day  Hour  Minute\n",
       "0   41.911574 -87.789972   False  2018     11    9     0       0\n",
       "2   41.694643 -87.661565   False  2018      9   30    13       5\n",
       "10  41.998188 -87.697224   False  2018      1    1     0       1\n",
       "11  41.872699 -87.688629    True  2018      9    1    11      49\n",
       "16  41.764193 -87.652879   False  2018      5    1     0       0"
      ]
     },
     "execution_count": 57,
     "metadata": {},
     "output_type": "execute_result"
    }
   ],
   "source": [
    "df.head()\n",
    "# df[\"Arrest\"].value_counts()"
   ]
  },
  {
   "cell_type": "code",
   "execution_count": 12,
   "metadata": {},
   "outputs": [
    {
     "data": {
      "text/html": [
       "<div>\n",
       "<style scoped>\n",
       "    .dataframe tbody tr th:only-of-type {\n",
       "        vertical-align: middle;\n",
       "    }\n",
       "\n",
       "    .dataframe tbody tr th {\n",
       "        vertical-align: top;\n",
       "    }\n",
       "\n",
       "    .dataframe thead th {\n",
       "        text-align: right;\n",
       "    }\n",
       "</style>\n",
       "<table border=\"1\" class=\"dataframe\">\n",
       "  <thead>\n",
       "    <tr style=\"text-align: right;\">\n",
       "      <th></th>\n",
       "      <th>count</th>\n",
       "      <th>mean</th>\n",
       "      <th>std</th>\n",
       "      <th>min</th>\n",
       "      <th>25%</th>\n",
       "      <th>50%</th>\n",
       "      <th>75%</th>\n",
       "      <th>max</th>\n",
       "    </tr>\n",
       "  </thead>\n",
       "  <tbody>\n",
       "    <tr>\n",
       "      <th>Latitude</th>\n",
       "      <td>1340842.0</td>\n",
       "      <td>41.843570</td>\n",
       "      <td>0.087499</td>\n",
       "      <td>36.619446</td>\n",
       "      <td>41.767920</td>\n",
       "      <td>41.861563</td>\n",
       "      <td>41.906392</td>\n",
       "      <td>42.022671</td>\n",
       "    </tr>\n",
       "    <tr>\n",
       "      <th>Longitude</th>\n",
       "      <td>1340842.0</td>\n",
       "      <td>-87.669593</td>\n",
       "      <td>0.059803</td>\n",
       "      <td>-91.686566</td>\n",
       "      <td>-87.711952</td>\n",
       "      <td>-87.663048</td>\n",
       "      <td>-87.627298</td>\n",
       "      <td>-87.524529</td>\n",
       "    </tr>\n",
       "    <tr>\n",
       "      <th>Year</th>\n",
       "      <td>1340842.0</td>\n",
       "      <td>2020.319079</td>\n",
       "      <td>1.711073</td>\n",
       "      <td>2018.000000</td>\n",
       "      <td>2019.000000</td>\n",
       "      <td>2020.000000</td>\n",
       "      <td>2022.000000</td>\n",
       "      <td>2023.000000</td>\n",
       "    </tr>\n",
       "    <tr>\n",
       "      <th>Month</th>\n",
       "      <td>1340842.0</td>\n",
       "      <td>6.396638</td>\n",
       "      <td>3.301088</td>\n",
       "      <td>1.000000</td>\n",
       "      <td>4.000000</td>\n",
       "      <td>6.000000</td>\n",
       "      <td>9.000000</td>\n",
       "      <td>12.000000</td>\n",
       "    </tr>\n",
       "    <tr>\n",
       "      <th>Day</th>\n",
       "      <td>1340842.0</td>\n",
       "      <td>15.567696</td>\n",
       "      <td>8.856577</td>\n",
       "      <td>1.000000</td>\n",
       "      <td>8.000000</td>\n",
       "      <td>15.000000</td>\n",
       "      <td>23.000000</td>\n",
       "      <td>31.000000</td>\n",
       "    </tr>\n",
       "    <tr>\n",
       "      <th>Hour</th>\n",
       "      <td>1340842.0</td>\n",
       "      <td>12.782869</td>\n",
       "      <td>6.746426</td>\n",
       "      <td>0.000000</td>\n",
       "      <td>8.000000</td>\n",
       "      <td>14.000000</td>\n",
       "      <td>18.000000</td>\n",
       "      <td>23.000000</td>\n",
       "    </tr>\n",
       "    <tr>\n",
       "      <th>Minute</th>\n",
       "      <td>1340842.0</td>\n",
       "      <td>19.860324</td>\n",
       "      <td>18.708079</td>\n",
       "      <td>0.000000</td>\n",
       "      <td>0.000000</td>\n",
       "      <td>18.000000</td>\n",
       "      <td>33.000000</td>\n",
       "      <td>59.000000</td>\n",
       "    </tr>\n",
       "  </tbody>\n",
       "</table>\n",
       "</div>"
      ],
      "text/plain": [
       "               count         mean        std          min          25%  \\\n",
       "Latitude   1340842.0    41.843570   0.087499    36.619446    41.767920   \n",
       "Longitude  1340842.0   -87.669593   0.059803   -91.686566   -87.711952   \n",
       "Year       1340842.0  2020.319079   1.711073  2018.000000  2019.000000   \n",
       "Month      1340842.0     6.396638   3.301088     1.000000     4.000000   \n",
       "Day        1340842.0    15.567696   8.856577     1.000000     8.000000   \n",
       "Hour       1340842.0    12.782869   6.746426     0.000000     8.000000   \n",
       "Minute     1340842.0    19.860324  18.708079     0.000000     0.000000   \n",
       "\n",
       "                   50%          75%          max  \n",
       "Latitude     41.861563    41.906392    42.022671  \n",
       "Longitude   -87.663048   -87.627298   -87.524529  \n",
       "Year       2020.000000  2022.000000  2023.000000  \n",
       "Month         6.000000     9.000000    12.000000  \n",
       "Day          15.000000    23.000000    31.000000  \n",
       "Hour         14.000000    18.000000    23.000000  \n",
       "Minute       18.000000    33.000000    59.000000  "
      ]
     },
     "execution_count": 12,
     "metadata": {},
     "output_type": "execute_result"
    }
   ],
   "source": [
    "df.describe().transpose()"
   ]
  },
  {
   "cell_type": "markdown",
   "metadata": {},
   "source": [
    "### Convert df data to array type"
   ]
  },
  {
   "cell_type": "code",
   "execution_count": 23,
   "metadata": {},
   "outputs": [
    {
     "name": "stderr",
     "output_type": "stream",
     "text": [
      "c:\\Users\\soumy\\anaconda3\\lib\\site-packages\\sklearn\\preprocessing\\_label.py:98: DataConversionWarning:\n",
      "\n",
      "A column-vector y was passed when a 1d array was expected. Please change the shape of y to (n_samples, ), for example using ravel().\n",
      "\n",
      "c:\\Users\\soumy\\anaconda3\\lib\\site-packages\\sklearn\\preprocessing\\_label.py:133: DataConversionWarning:\n",
      "\n",
      "A column-vector y was passed when a 1d array was expected. Please change the shape of y to (n_samples, ), for example using ravel().\n",
      "\n"
     ]
    }
   ],
   "source": [
    "y = np.asarray(df[['Arrest']])\n",
    "le = LabelEncoder()\n",
    "le.fit(y)\n",
    "y = le.transform(y)\n",
    "\n",
    "# X = df[['Latitude','Longitude','Month','Day','Hour','Minute']]\n",
    "X = df[['Latitude','Longitude','Hour','Minute']]\n",
    "X = X.to_dict(orient='records')\n",
    "vec = DictVectorizer()\n",
    "X = vec.fit_transform(X).toarray()"
   ]
  },
  {
   "cell_type": "markdown",
   "metadata": {},
   "source": [
    "### Balancing data"
   ]
  },
  {
   "cell_type": "code",
   "execution_count": 24,
   "metadata": {},
   "outputs": [
    {
     "name": "stdout",
     "output_type": "stream",
     "text": [
      "Count of each target from unbalanced dataset: [(0, 1125417), (1, 215425)] (arrest true (1) or false (0))\n",
      "Count of each target from balanced dataset: [(0, 604855), (1, 649372)] (arrest true (1) or false (0))\n"
     ]
    }
   ],
   "source": [
    "print(\"Count of each target from unbalanced dataset: {} (arrest true (1) or false (0))\".format(sorted(Counter(y).items())))\n",
    "smote_enn = SMOTEENN(random_state=0)\n",
    "X_resampled, y_resampled = smote_enn.fit_resample(X, y)\n",
    "print(\"Count of each target from balanced dataset: {} (arrest true (1) or false (0))\".format(sorted(Counter(y_resampled).items())))"
   ]
  },
  {
   "cell_type": "markdown",
   "metadata": {},
   "source": [
    "### Split data into train and test set"
   ]
  },
  {
   "cell_type": "code",
   "execution_count": 25,
   "metadata": {
    "collapsed": true
   },
   "outputs": [],
   "source": [
    "X_train, X_test, y_train, y_test = train_test_split(X_resampled, y_resampled, test_size=.2, random_state=42)"
   ]
  },
  {
   "cell_type": "markdown",
   "metadata": {},
   "source": [
    "### Normalize the input features"
   ]
  },
  {
   "cell_type": "code",
   "execution_count": 26,
   "metadata": {
    "collapsed": true
   },
   "outputs": [],
   "source": [
    "scaler = StandardScaler()\n",
    "X_train2 = scaler.fit_transform(X_train)\n",
    "X_test2 = scaler.transform(X_test)\n",
    "# y_train2 = scaler.fit_transform(y_train)"
   ]
  },
  {
   "cell_type": "code",
   "execution_count": 27,
   "metadata": {},
   "outputs": [
    {
     "name": "stdout",
     "output_type": "stream",
     "text": [
      "[[  0.          41.91157425 -87.78997228   0.        ]\n",
      " [ 13.          41.69464271 -87.66156517   5.        ]\n",
      " [  0.          41.99818822 -87.69722366   1.        ]\n",
      " ...\n",
      " [  7.          41.89071813 -87.74811127  35.        ]\n",
      " [ 21.          41.79176316 -87.65724073  25.        ]\n",
      " [ 12.          41.87622373 -87.72191251  42.        ]]\n"
     ]
    }
   ],
   "source": [
    "print(X)"
   ]
  },
  {
   "cell_type": "markdown",
   "metadata": {},
   "source": [
    "## 2. Modeling, Prediction and Evaluation"
   ]
  },
  {
   "cell_type": "markdown",
   "metadata": {},
   "source": [
    "### Using K-Nearest Neighbors"
   ]
  },
  {
   "cell_type": "code",
   "execution_count": 65,
   "metadata": {
    "collapsed": true
   },
   "outputs": [],
   "source": [
    "parameters = { \n",
    "    'n_neighbors':[5,7,9],\n",
    "    'weights':['uniform', 'distance']\n",
    "}\n",
    "knn = KNeighborsClassifier();\n",
    "grid_knn = GridSearchCV(estimator=knn, param_grid=parameters, verbose=0);\n",
    "grid_knn.fit(X_train, y_train);"
   ]
  },
  {
   "cell_type": "code",
   "execution_count": 66,
   "metadata": {},
   "outputs": [
    {
     "name": "stdout",
     "output_type": "stream",
     "text": [
      "{'n_neighbors': 5, 'weights': 'distance'}\n",
      "0.953401727861771\n",
      "KNeighborsClassifier(weights='distance')\n"
     ]
    }
   ],
   "source": [
    "print(grid_knn.best_params_)\n",
    "print(grid_knn.best_score_)\n",
    "print(grid_knn.best_estimator_)\n",
    "# print(grid_lr.feature_importances_)"
   ]
  },
  {
   "cell_type": "markdown",
   "metadata": {},
   "source": [
    "{'n_neighbors': 5, 'weights': 'distance'}\n",
    "0.8260319336773744\n",
    "KNeighborsClassifier(algorithm='auto', leaf_size=30, metric='minkowski',\n",
    "           metric_params=None, n_jobs=1, n_neighbors=5, p=2,\n",
    "           weights='distance')"
   ]
  },
  {
   "cell_type": "code",
   "execution_count": 67,
   "metadata": {
    "collapsed": true
   },
   "outputs": [],
   "source": [
    "grid_knn.best_estimator_.fit(X_train, y_train);"
   ]
  },
  {
   "cell_type": "code",
   "execution_count": 82,
   "metadata": {},
   "outputs": [
    {
     "name": "stdout",
     "output_type": "stream",
     "text": [
      "Accuracy=0.5174744024804976\n",
      "Classification report for classifier Logistic Regression:\n",
      "              precision    recall  f1-score   support\n",
      "\n",
      "           0       0.89      0.01      0.03    133342\n",
      "           1       0.51      1.00      0.68    139829\n",
      "\n",
      "    accuracy                           0.52    273171\n",
      "   macro avg       0.70      0.51      0.35    273171\n",
      "weighted avg       0.70      0.52      0.36    273171\n",
      "\n",
      "\n",
      "Confusion matrix:\n",
      "[[  1743 131599]\n",
      " [   213 139616]]\n"
     ]
    }
   ],
   "source": [
    "knn = KNeighborsClassifier(algorithm='auto', leaf_size=30, metric='minkowski',\n",
    "           metric_params=None, n_jobs=1, n_neighbors=5, p=2,\n",
    "           weights='distance');\n",
    "knn.fit(X_train2,y_train)\n",
    "\n",
    "knn_expected = y_test\n",
    "knn_predicted = knn.predict(X_test)\n",
    "knn_cm = metrics.confusion_matrix(knn_expected, knn_predicted)\n",
    "\n",
    "print(\"Accuracy={}\".format(metrics.accuracy_score(knn_expected, knn_predicted)))\n",
    "print(\"Classification report for classifier %s:\\n%s\\n\"\n",
    "      % (\"Logistic Regression\", metrics.classification_report(knn_expected, knn_predicted)))\n",
    "print(\"Confusion matrix:\\n%s\" % knn_cm)\n"
   ]
  },
  {
   "cell_type": "code",
   "execution_count": 85,
   "metadata": {},
   "outputs": [
    {
     "data": {
      "image/png": "[encoded data removed]",
      "text/plain": [
       "<Figure size 432x288 with 2 Axes>"
      ]
     },
     "metadata": {
      "needs_background": "light"
     },
     "output_type": "display_data"
    }
   ],
   "source": [
    "ConfusionMatrixDisplay.from_predictions(knn_expected, knn_predicted)\n",
    "plt.show()"
   ]
  },
  {
   "cell_type": "markdown",
   "metadata": {},
   "source": [
    "### Decision Tree"
   ]
  },
  {
   "cell_type": "code",
   "execution_count": 69,
   "metadata": {},
   "outputs": [
    {
     "name": "stdout",
     "output_type": "stream",
     "text": [
      "Start learning at 2023-10-08 13:37:31.350316\n",
      "Stop learning 2023-10-08 14:23:43.440638\n",
      "Elapsed learning 0:46:12.090322\n"
     ]
    }
   ],
   "source": [
    "parameters = { \n",
    "    'max_features': ['auto', 'sqrt', 'log2'],\n",
    "    'min_samples_split': [2,4,5,6,7,8,9,10], \n",
    "    'min_samples_leaf':[2,4,6,8,10]\n",
    "}\n",
    "dt = DecisionTreeClassifier();\n",
    "dt_start_time = datetime.now()\n",
    "print('Start learning at {}'.format(str(dt_start_time)))\n",
    "grid_dt = GridSearchCV(estimator=dt, param_grid=parameters, verbose=0);\n",
    "grid_dt.fit(X_train, y_train);\n",
    "dt_end_time = datetime.now() \n",
    "print('Stop learning {}'.format(str(dt_end_time)))\n",
    "dt_elapsed_time= dt_end_time - dt_start_time\n",
    "print('Elapsed learning {}'.format(str(dt_elapsed_time)))"
   ]
  },
  {
   "cell_type": "code",
   "execution_count": 70,
   "metadata": {},
   "outputs": [
    {
     "name": "stdout",
     "output_type": "stream",
     "text": [
      "{'max_features': 'auto', 'min_samples_leaf': 10, 'min_samples_split': 9}\n",
      "0.8294459494087931\n",
      "DecisionTreeClassifier(max_features='auto', min_samples_leaf=10,\n",
      "                       min_samples_split=9)\n"
     ]
    }
   ],
   "source": [
    "print(grid_dt.best_params_)\n",
    "print(grid_dt.best_score_)\n",
    "print(grid_dt.best_estimator_)"
   ]
  },
  {
   "cell_type": "code",
   "execution_count": 71,
   "metadata": {
    "collapsed": true
   },
   "outputs": [],
   "source": [
    "grid_dt.best_estimator_.fit(X_train, y_train);"
   ]
  },
  {
   "cell_type": "code",
   "execution_count": 73,
   "metadata": {},
   "outputs": [
    {
     "name": "stdout",
     "output_type": "stream",
     "text": [
      "Start testing at 2023-10-08 14:39:47.176103\n",
      "Stop testing 2023-10-08 14:39:47.286144\n",
      "Elapsed testing 0:00:00.110041\n"
     ]
    }
   ],
   "source": [
    "dt_expected = y_test\n",
    "dt_start_time_test = datetime.now()\n",
    "print('Start testing at {}'.format(str(dt_start_time_test)))\n",
    "dt_predicted = grid_dt.best_estimator_.predict(X_test)\n",
    "dt_end_time_test = datetime.now() \n",
    "print('Stop testing {}'.format(str(dt_end_time_test)))\n",
    "dt_elapsed_time_test = dt_end_time_test - dt_start_time_test\n",
    "print('Elapsed testing {}'.format(str(dt_elapsed_time_test)))\n",
    "dt_cm = metrics.confusion_matrix(dt_expected, dt_predicted)"
   ]
  },
  {
   "cell_type": "code",
   "execution_count": 74,
   "metadata": {},
   "outputs": [
    {
     "name": "stdout",
     "output_type": "stream",
     "text": [
      "Accuracy=0.8306665055953963\n",
      "Classification report for classifier Logistic Regression:\n",
      "              precision    recall  f1-score   support\n",
      "\n",
      "           0       0.82      0.84      0.83    133342\n",
      "           1       0.84      0.83      0.83    139829\n",
      "\n",
      "    accuracy                           0.83    273171\n",
      "   macro avg       0.83      0.83      0.83    273171\n",
      "weighted avg       0.83      0.83      0.83    273171\n",
      "\n",
      "\n",
      "Confusion matrix:\n",
      "[[111366  21976]\n",
      " [ 24281 115548]]\n"
     ]
    }
   ],
   "source": [
    "print(\"Accuracy={}\".format(metrics.accuracy_score(dt_expected, dt_predicted)))\n",
    "print(\"Classification report for classifier %s:\\n%s\\n\"\n",
    "      % (\"Logistic Regression\", metrics.classification_report(dt_expected, dt_predicted)))\n",
    "print(\"Confusion matrix:\\n%s\" % dt_cm)"
   ]
  },
  {
   "cell_type": "code",
   "execution_count": 86,
   "metadata": {},
   "outputs": [
    {
     "data": {
      "image/png": "[encoded data removed]",
      "text/plain": [
       "<Figure size 432x288 with 2 Axes>"
      ]
     },
     "metadata": {
      "needs_background": "light"
     },
     "output_type": "display_data"
    }
   ],
   "source": [
    "ConfusionMatrixDisplay.from_predictions(dt_expected, dt_predicted)\n",
    "plt.show()"
   ]
  },
  {
   "cell_type": "markdown",
   "metadata": {},
   "source": [
    "### XG-Boost"
   ]
  },
  {
   "cell_type": "code",
   "execution_count": null,
   "metadata": {},
   "outputs": [],
   "source": []
  },
  {
   "cell_type": "code",
   "execution_count": 28,
   "metadata": {},
   "outputs": [
    {
     "name": "stdout",
     "output_type": "stream",
     "text": [
      "Start learning at 2023-11-13 22:44:37.640681\n",
      "Stop learning 2023-11-13 22:46:26.387982\n",
      "Elapsed learning 0:01:48.747301\n"
     ]
    }
   ],
   "source": [
    "parameters = { \n",
    "    'max_depth' : [10],\n",
    "    'n_estimators': [100,200],\n",
    "    'booster': ['gbtree']\n",
    "}\n",
    "xgb = XGBClassifier();\n",
    "xgb_start_time = datetime.now()\n",
    "print('Start learning at {}'.format(str(xgb_start_time)))\n",
    "grid_xgb = GridSearchCV(estimator=xgb, param_grid=parameters, verbose=0);\n",
    "grid_xgb.fit(X_train, y_train);\n",
    "xgb_end_time = datetime.now() \n",
    "print('Stop learning {}'.format(str(xgb_end_time)))\n",
    "xgb_elapsed_time= xgb_end_time - xgb_start_time\n",
    "print('Elapsed learning {}'.format(str(xgb_elapsed_time)))"
   ]
  },
  {
   "cell_type": "code",
   "execution_count": 29,
   "metadata": {},
   "outputs": [
    {
     "name": "stdout",
     "output_type": "stream",
     "text": [
      "{'booster': 'gbtree', 'max_depth': 10, 'n_estimators': 200}\n",
      "0.8966225197764766\n",
      "XGBClassifier(base_score=None, booster='gbtree', callbacks=None,\n",
      "              colsample_bylevel=None, colsample_bynode=None,\n",
      "              colsample_bytree=None, device=None, early_stopping_rounds=None,\n",
      "              enable_categorical=False, eval_metric=None, feature_types=None,\n",
      "              gamma=None, grow_policy=None, importance_type=None,\n",
      "              interaction_constraints=None, learning_rate=None, max_bin=None,\n",
      "              max_cat_threshold=None, max_cat_to_onehot=None,\n",
      "              max_delta_step=None, max_depth=10, max_leaves=None,\n",
      "              min_child_weight=None, missing=nan, monotone_constraints=None,\n",
      "              multi_strategy=None, n_estimators=200, n_jobs=None,\n",
      "              num_parallel_tree=None, random_state=None, ...)\n"
     ]
    }
   ],
   "source": [
    "print(grid_xgb.best_params_)\n",
    "print(grid_xgb.best_score_)\n",
    "print(grid_xgb.best_estimator_)"
   ]
  },
  {
   "cell_type": "code",
   "execution_count": 30,
   "metadata": {
    "collapsed": true
   },
   "outputs": [],
   "source": [
    "grid_xgb.best_estimator_.fit(X_train2, y_train);"
   ]
  },
  {
   "cell_type": "code",
   "execution_count": 31,
   "metadata": {},
   "outputs": [],
   "source": [
    "xgb = XGBClassifier(n_estimators=200,max_depth=10,booster='gbtree');\n",
    "xgb.fit(X_train2, y_train);\n",
    "xgb_expected = y_test\n",
    "xgb_predicted = xgb.predict(X_test2)\n",
    "xgb_cm = metrics.confusion_matrix(xgb_expected, xgb_predicted)"
   ]
  },
  {
   "cell_type": "code",
   "execution_count": 32,
   "metadata": {},
   "outputs": [
    {
     "name": "stdout",
     "output_type": "stream",
     "text": [
      "Start testing at 2023-11-13 22:47:05.502793\n",
      "Stop testing 2023-11-13 22:47:06.282797\n",
      "Elapsed testing 0:00:00.780004\n"
     ]
    }
   ],
   "source": [
    "xgb_expected = y_test\n",
    "xgb_start_time_test = datetime.now()\n",
    "print('Start testing at {}'.format(str(xgb_start_time_test)))\n",
    "xgb_predicted = xgb.predict(X_test2)\n",
    "xgb_end_time_test = datetime.now() \n",
    "print('Stop testing {}'.format(str(xgb_end_time_test)))\n",
    "xgb_elapsed_time_test = xgb_end_time_test - xgb_start_time_test\n",
    "print('Elapsed testing {}'.format(str(xgb_elapsed_time_test)))\n",
    "xgb_cm = metrics.confusion_matrix(xgb_expected, xgb_predicted)"
   ]
  },
  {
   "cell_type": "code",
   "execution_count": 33,
   "metadata": {},
   "outputs": [
    {
     "name": "stdout",
     "output_type": "stream",
     "text": [
      "Accuracy=0.900544557218373\n"
     ]
    },
    {
     "name": "stdout",
     "output_type": "stream",
     "text": [
      "Classification report for classifier XG-Boost:\n",
      "              precision    recall  f1-score   support\n",
      "\n",
      "           0       0.91      0.88      0.90    121009\n",
      "           1       0.89      0.92      0.91    129837\n",
      "\n",
      "    accuracy                           0.90    250846\n",
      "   macro avg       0.90      0.90      0.90    250846\n",
      "weighted avg       0.90      0.90      0.90    250846\n",
      "\n",
      "\n",
      "Confusion matrix:\n",
      "[[106956  14053]\n",
      " [ 10895 118942]]\n"
     ]
    }
   ],
   "source": [
    "print(\"Accuracy={}\".format(metrics.accuracy_score(xgb_expected, xgb_predicted)))\n",
    "print(\"Classification report for classifier %s:\\n%s\\n\"\n",
    "      % (\"XG-Boost\", metrics.classification_report(xgb_expected, xgb_predicted)))\n",
    "print(\"Confusion matrix:\\n%s\" % xgb_cm)"
   ]
  },
  {
   "cell_type": "code",
   "execution_count": 34,
   "metadata": {},
   "outputs": [
    {
     "data": {
      "text/plain": [
       "<Figure size 1800x1200 with 0 Axes>"
      ]
     },
     "metadata": {},
     "output_type": "display_data"
    },
    {
     "data": {
      "image/png": "[encoded data removed]",
      "text/plain": [
       "<Figure size 432x288 with 2 Axes>"
      ]
     },
     "metadata": {
      "needs_background": "light"
     },
     "output_type": "display_data"
    }
   ],
   "source": [
    "plt.figure(dpi=300)\n",
    "ConfusionMatrixDisplay.from_predictions(xgb_expected, xgb_predicted)\n",
    "plt.show()"
   ]
  },
  {
   "cell_type": "markdown",
   "metadata": {
    "collapsed": true
   },
   "source": [
    "## 3. Testing"
   ]
  },
  {
   "cell_type": "code",
   "execution_count": 97,
   "metadata": {
    "collapsed": true
   },
   "outputs": [],
   "source": [
    "Test = [16,5,41.876248,-87.653065,10,5]"
   ]
  },
  {
   "cell_type": "code",
   "execution_count": 98,
   "metadata": {
    "collapsed": true
   },
   "outputs": [
    {
     "name": "stdout",
     "output_type": "stream",
     "text": [
      "[0 0 1 ... 0 0 1]\n"
     ]
    }
   ],
   "source": [
    "print(grid_xgb.best_estimator_.predict(X_test))"
   ]
  },
  {
   "cell_type": "code",
   "execution_count": 99,
   "metadata": {
    "collapsed": true
   },
   "outputs": [
    {
     "name": "stdout",
     "output_type": "stream",
     "text": [
      "[[ 0.61286694 -1.94729926  2.0722281  -0.49585716 -0.35029065  0.79757858]]\n",
      "[1]\n",
      "[[7.1525574e-05 9.9992847e-01]]\n"
     ]
    }
   ],
   "source": [
    "Test = np.array([[ 21, 0, 42.0122934 , -87.69971411, 15, 9]])\n",
    "print(scaler.transform(Test))\n",
    "Test2 = np.array([[-0.50714446,  0.70064672,  1.33995114, -1.07622397, -1.12694646, -0.47388072]])\n",
    "scaler.transform(Test2)\n",
    "print(xgb.predict(Test2))\n",
    "print(xgb.predict_proba(Test2))"
   ]
  },
  {
   "cell_type": "code",
   "execution_count": 104,
   "metadata": {},
   "outputs": [
    {
     "name": "stdout",
     "output_type": "stream",
     "text": [
      "[[0.86673784 0.13326216]]\n"
     ]
    }
   ],
   "source": [
    "Test = np.array([[ 21, 0, 42.0122934, -87.69971411, 15, 9]])\n",
    "print(xgb.predict_proba(scaler.transform(Test)))"
   ]
  },
  {
   "cell_type": "code",
   "execution_count": 35,
   "metadata": {},
   "outputs": [],
   "source": [
    "pickle.dump(scaler, open('./scaler.pkl', 'wb'))\n",
    "pickle.dump(xgb, open('./xgboost.pkl', 'wb'))"
   ]
  }
 ],
 "metadata": {
  "kernelspec": {
   "display_name": "Python 3",
   "language": "python",
   "name": "python3"
  },
  "language_info": {
   "codemirror_mode": {
    "name": "ipython",
    "version": 3
   },
   "file_extension": ".py",
   "mimetype": "text/x-python",
   "name": "python",
   "nbconvert_exporter": "python",
   "pygments_lexer": "ipython3",
   "version": "3.9.12"
  }
 },
 "nbformat": 4,
 "nbformat_minor": 2
}
